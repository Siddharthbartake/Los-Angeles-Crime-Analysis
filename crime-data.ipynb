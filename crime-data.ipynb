{
 "cells": [
  {
   "cell_type": "code",
   "execution_count": 1,
   "id": "a273e6b7",
   "metadata": {
    "execution": {
     "iopub.execute_input": "2024-09-17T05:27:27.790443Z",
     "iopub.status.busy": "2024-09-17T05:27:27.789373Z",
     "iopub.status.idle": "2024-09-17T05:27:44.648245Z",
     "shell.execute_reply": "2024-09-17T05:27:44.647024Z"
    },
    "papermill": {
     "duration": 16.873831,
     "end_time": "2024-09-17T05:27:44.650969",
     "exception": false,
     "start_time": "2024-09-17T05:27:27.777138",
     "status": "completed"
    },
    "tags": []
   },
   "outputs": [
    {
     "name": "stdout",
     "output_type": "stream",
     "text": [
      "Requirement already satisfied: folium in /opt/conda/lib/python3.10/site-packages (0.17.0)\r\n",
      "Requirement already satisfied: branca>=0.6.0 in /opt/conda/lib/python3.10/site-packages (from folium) (0.7.2)\r\n",
      "Requirement already satisfied: jinja2>=2.9 in /opt/conda/lib/python3.10/site-packages (from folium) (3.1.4)\r\n",
      "Requirement already satisfied: numpy in /opt/conda/lib/python3.10/site-packages (from folium) (1.26.4)\r\n",
      "Requirement already satisfied: requests in /opt/conda/lib/python3.10/site-packages (from folium) (2.32.3)\r\n",
      "Requirement already satisfied: xyzservices in /opt/conda/lib/python3.10/site-packages (from folium) (2024.6.0)\r\n",
      "Requirement already satisfied: MarkupSafe>=2.0 in /opt/conda/lib/python3.10/site-packages (from jinja2>=2.9->folium) (2.1.5)\r\n",
      "Requirement already satisfied: charset-normalizer<4,>=2 in /opt/conda/lib/python3.10/site-packages (from requests->folium) (3.3.2)\r\n",
      "Requirement already satisfied: idna<4,>=2.5 in /opt/conda/lib/python3.10/site-packages (from requests->folium) (3.7)\r\n",
      "Requirement already satisfied: urllib3<3,>=1.21.1 in /opt/conda/lib/python3.10/site-packages (from requests->folium) (1.26.18)\r\n",
      "Requirement already satisfied: certifi>=2017.4.17 in /opt/conda/lib/python3.10/site-packages (from requests->folium) (2024.7.4)\r\n"
     ]
    }
   ],
   "source": [
    "#Install missing libraries\n",
    "!pip install folium"
   ]
  },
  {
   "cell_type": "code",
   "execution_count": 2,
   "id": "48e35f35",
   "metadata": {
    "_cell_guid": "b1076dfc-b9ad-4769-8c92-a6c4dae69d19",
    "_uuid": "8f2839f25d086af736a60e9eeb907d3b93b6e0e5",
    "execution": {
     "iopub.execute_input": "2024-09-17T05:27:44.672422Z",
     "iopub.status.busy": "2024-09-17T05:27:44.671611Z",
     "iopub.status.idle": "2024-09-17T05:27:48.032886Z",
     "shell.execute_reply": "2024-09-17T05:27:48.031761Z"
    },
    "papermill": {
     "duration": 3.375142,
     "end_time": "2024-09-17T05:27:48.035795",
     "exception": false,
     "start_time": "2024-09-17T05:27:44.660653",
     "status": "completed"
    },
    "tags": []
   },
   "outputs": [],
   "source": [
    "#Import libraries\n",
    "import numpy as np # linear algebra\n",
    "import pandas as pd # data processing, CSV file I/O (e.g. pd.read_csv)\n",
    "import seaborn as sns\n",
    "import matplotlib.pyplot as plt\n",
    "import plotly.express as px\n",
    "import folium"
   ]
  },
  {
   "cell_type": "code",
   "execution_count": 3,
   "id": "bd682f6f",
   "metadata": {
    "execution": {
     "iopub.execute_input": "2024-09-17T05:27:48.057299Z",
     "iopub.status.busy": "2024-09-17T05:27:48.056606Z",
     "iopub.status.idle": "2024-09-17T05:27:57.291834Z",
     "shell.execute_reply": "2024-09-17T05:27:57.290767Z"
    },
    "papermill": {
     "duration": 9.249061,
     "end_time": "2024-09-17T05:27:57.294662",
     "exception": false,
     "start_time": "2024-09-17T05:27:48.045601",
     "status": "completed"
    },
    "tags": []
   },
   "outputs": [],
   "source": [
    "#Read Data and load as df_cd\n",
    "df_cd = pd.read_csv('/kaggle/input/crime-data-analysis/Crime_Data_from_2020_to_Present.csv')"
   ]
  },
  {
   "cell_type": "code",
   "execution_count": 4,
   "id": "97d91d2c",
   "metadata": {
    "execution": {
     "iopub.execute_input": "2024-09-17T05:27:57.315431Z",
     "iopub.status.busy": "2024-09-17T05:27:57.314951Z",
     "iopub.status.idle": "2024-09-17T05:27:57.325551Z",
     "shell.execute_reply": "2024-09-17T05:27:57.324541Z"
    },
    "papermill": {
     "duration": 0.023754,
     "end_time": "2024-09-17T05:27:57.327852",
     "exception": false,
     "start_time": "2024-09-17T05:27:57.304098",
     "status": "completed"
    },
    "tags": []
   },
   "outputs": [
    {
     "data": {
      "text/plain": [
       "Index(['DR_NO', 'Date Rptd', 'DATE OCC', 'TIME OCC', 'AREA', 'AREA NAME',\n",
       "       'Rpt Dist No', 'Part 1-2', 'Crm Cd', 'Crm Cd Desc', 'Mocodes',\n",
       "       'Vict Age', 'Vict Sex', 'Vict Descent', 'Premis Cd', 'Premis Desc',\n",
       "       'Weapon Used Cd', 'Weapon Desc', 'Status', 'Status Desc', 'Crm Cd 1',\n",
       "       'Crm Cd 2', 'Crm Cd 3', 'Crm Cd 4', 'LOCATION', 'Cross Street', 'LAT',\n",
       "       'LON'],\n",
       "      dtype='object')"
      ]
     },
     "execution_count": 4,
     "metadata": {},
     "output_type": "execute_result"
    }
   ],
   "source": [
    "# Print all column names\n",
    "df_cd.columns"
   ]
  },
  {
   "cell_type": "code",
   "execution_count": 5,
   "id": "e5739b64",
   "metadata": {
    "execution": {
     "iopub.execute_input": "2024-09-17T05:27:57.348739Z",
     "iopub.status.busy": "2024-09-17T05:27:57.348266Z",
     "iopub.status.idle": "2024-09-17T05:27:57.977674Z",
     "shell.execute_reply": "2024-09-17T05:27:57.976457Z"
    },
    "papermill": {
     "duration": 0.642872,
     "end_time": "2024-09-17T05:27:57.980348",
     "exception": false,
     "start_time": "2024-09-17T05:27:57.337476",
     "status": "completed"
    },
    "tags": []
   },
   "outputs": [
    {
     "data": {
      "text/html": [
       "<div>\n",
       "<style scoped>\n",
       "    .dataframe tbody tr th:only-of-type {\n",
       "        vertical-align: middle;\n",
       "    }\n",
       "\n",
       "    .dataframe tbody tr th {\n",
       "        vertical-align: top;\n",
       "    }\n",
       "\n",
       "    .dataframe thead th {\n",
       "        text-align: right;\n",
       "    }\n",
       "</style>\n",
       "<table border=\"1\" class=\"dataframe\">\n",
       "  <thead>\n",
       "    <tr style=\"text-align: right;\">\n",
       "      <th></th>\n",
       "      <th>DR_NO</th>\n",
       "      <th>TIME OCC</th>\n",
       "      <th>AREA</th>\n",
       "      <th>Rpt Dist No</th>\n",
       "      <th>Part 1-2</th>\n",
       "      <th>Crm Cd</th>\n",
       "      <th>Vict Age</th>\n",
       "      <th>Premis Cd</th>\n",
       "      <th>Weapon Used Cd</th>\n",
       "      <th>Crm Cd 1</th>\n",
       "      <th>Crm Cd 2</th>\n",
       "      <th>Crm Cd 3</th>\n",
       "      <th>Crm Cd 4</th>\n",
       "      <th>LAT</th>\n",
       "      <th>LON</th>\n",
       "    </tr>\n",
       "  </thead>\n",
       "  <tbody>\n",
       "    <tr>\n",
       "      <th>count</th>\n",
       "      <td>9.553390e+05</td>\n",
       "      <td>955339.000000</td>\n",
       "      <td>955339.000000</td>\n",
       "      <td>955339.000000</td>\n",
       "      <td>955339.000000</td>\n",
       "      <td>955339.000000</td>\n",
       "      <td>955339.000000</td>\n",
       "      <td>955327.000000</td>\n",
       "      <td>325019.000000</td>\n",
       "      <td>955328.000000</td>\n",
       "      <td>68466.000000</td>\n",
       "      <td>2294.000000</td>\n",
       "      <td>64.00000</td>\n",
       "      <td>955339.000000</td>\n",
       "      <td>955339.000000</td>\n",
       "    </tr>\n",
       "    <tr>\n",
       "      <th>mean</th>\n",
       "      <td>2.191355e+08</td>\n",
       "      <td>1338.453032</td>\n",
       "      <td>10.718033</td>\n",
       "      <td>1118.243545</td>\n",
       "      <td>1.407805</td>\n",
       "      <td>500.667710</td>\n",
       "      <td>29.383110</td>\n",
       "      <td>306.255200</td>\n",
       "      <td>363.741547</td>\n",
       "      <td>500.415756</td>\n",
       "      <td>958.107265</td>\n",
       "      <td>984.102005</td>\n",
       "      <td>991.21875</td>\n",
       "      <td>33.993372</td>\n",
       "      <td>-118.074280</td>\n",
       "    </tr>\n",
       "    <tr>\n",
       "      <th>std</th>\n",
       "      <td>1.261589e+07</td>\n",
       "      <td>652.186527</td>\n",
       "      <td>6.100431</td>\n",
       "      <td>610.098189</td>\n",
       "      <td>0.491427</td>\n",
       "      <td>206.867837</td>\n",
       "      <td>21.909695</td>\n",
       "      <td>217.844195</td>\n",
       "      <td>123.606085</td>\n",
       "      <td>206.661318</td>\n",
       "      <td>110.316767</td>\n",
       "      <td>51.662269</td>\n",
       "      <td>27.06985</td>\n",
       "      <td>1.660523</td>\n",
       "      <td>5.755746</td>\n",
       "    </tr>\n",
       "    <tr>\n",
       "      <th>min</th>\n",
       "      <td>8.170000e+02</td>\n",
       "      <td>1.000000</td>\n",
       "      <td>1.000000</td>\n",
       "      <td>101.000000</td>\n",
       "      <td>1.000000</td>\n",
       "      <td>110.000000</td>\n",
       "      <td>-4.000000</td>\n",
       "      <td>101.000000</td>\n",
       "      <td>101.000000</td>\n",
       "      <td>110.000000</td>\n",
       "      <td>210.000000</td>\n",
       "      <td>310.000000</td>\n",
       "      <td>821.00000</td>\n",
       "      <td>0.000000</td>\n",
       "      <td>-118.667600</td>\n",
       "    </tr>\n",
       "    <tr>\n",
       "      <th>25%</th>\n",
       "      <td>2.105125e+08</td>\n",
       "      <td>900.000000</td>\n",
       "      <td>6.000000</td>\n",
       "      <td>621.000000</td>\n",
       "      <td>1.000000</td>\n",
       "      <td>331.000000</td>\n",
       "      <td>0.000000</td>\n",
       "      <td>101.000000</td>\n",
       "      <td>311.000000</td>\n",
       "      <td>331.000000</td>\n",
       "      <td>998.000000</td>\n",
       "      <td>998.000000</td>\n",
       "      <td>998.00000</td>\n",
       "      <td>34.014500</td>\n",
       "      <td>-118.430700</td>\n",
       "    </tr>\n",
       "    <tr>\n",
       "      <th>50%</th>\n",
       "      <td>2.207106e+08</td>\n",
       "      <td>1420.000000</td>\n",
       "      <td>11.000000</td>\n",
       "      <td>1142.000000</td>\n",
       "      <td>1.000000</td>\n",
       "      <td>442.000000</td>\n",
       "      <td>30.000000</td>\n",
       "      <td>203.000000</td>\n",
       "      <td>400.000000</td>\n",
       "      <td>442.000000</td>\n",
       "      <td>998.000000</td>\n",
       "      <td>998.000000</td>\n",
       "      <td>998.00000</td>\n",
       "      <td>34.059000</td>\n",
       "      <td>-118.322500</td>\n",
       "    </tr>\n",
       "    <tr>\n",
       "      <th>75%</th>\n",
       "      <td>2.307171e+08</td>\n",
       "      <td>1900.000000</td>\n",
       "      <td>16.000000</td>\n",
       "      <td>1618.000000</td>\n",
       "      <td>2.000000</td>\n",
       "      <td>626.000000</td>\n",
       "      <td>45.000000</td>\n",
       "      <td>501.000000</td>\n",
       "      <td>400.000000</td>\n",
       "      <td>626.000000</td>\n",
       "      <td>998.000000</td>\n",
       "      <td>998.000000</td>\n",
       "      <td>998.00000</td>\n",
       "      <td>34.164900</td>\n",
       "      <td>-118.274000</td>\n",
       "    </tr>\n",
       "    <tr>\n",
       "      <th>max</th>\n",
       "      <td>2.499187e+08</td>\n",
       "      <td>2359.000000</td>\n",
       "      <td>21.000000</td>\n",
       "      <td>2199.000000</td>\n",
       "      <td>2.000000</td>\n",
       "      <td>956.000000</td>\n",
       "      <td>120.000000</td>\n",
       "      <td>976.000000</td>\n",
       "      <td>516.000000</td>\n",
       "      <td>956.000000</td>\n",
       "      <td>999.000000</td>\n",
       "      <td>999.000000</td>\n",
       "      <td>999.00000</td>\n",
       "      <td>34.334300</td>\n",
       "      <td>0.000000</td>\n",
       "    </tr>\n",
       "  </tbody>\n",
       "</table>\n",
       "</div>"
      ],
      "text/plain": [
       "              DR_NO       TIME OCC           AREA    Rpt Dist No  \\\n",
       "count  9.553390e+05  955339.000000  955339.000000  955339.000000   \n",
       "mean   2.191355e+08    1338.453032      10.718033    1118.243545   \n",
       "std    1.261589e+07     652.186527       6.100431     610.098189   \n",
       "min    8.170000e+02       1.000000       1.000000     101.000000   \n",
       "25%    2.105125e+08     900.000000       6.000000     621.000000   \n",
       "50%    2.207106e+08    1420.000000      11.000000    1142.000000   \n",
       "75%    2.307171e+08    1900.000000      16.000000    1618.000000   \n",
       "max    2.499187e+08    2359.000000      21.000000    2199.000000   \n",
       "\n",
       "            Part 1-2         Crm Cd       Vict Age      Premis Cd  \\\n",
       "count  955339.000000  955339.000000  955339.000000  955327.000000   \n",
       "mean        1.407805     500.667710      29.383110     306.255200   \n",
       "std         0.491427     206.867837      21.909695     217.844195   \n",
       "min         1.000000     110.000000      -4.000000     101.000000   \n",
       "25%         1.000000     331.000000       0.000000     101.000000   \n",
       "50%         1.000000     442.000000      30.000000     203.000000   \n",
       "75%         2.000000     626.000000      45.000000     501.000000   \n",
       "max         2.000000     956.000000     120.000000     976.000000   \n",
       "\n",
       "       Weapon Used Cd       Crm Cd 1      Crm Cd 2     Crm Cd 3   Crm Cd 4  \\\n",
       "count   325019.000000  955328.000000  68466.000000  2294.000000   64.00000   \n",
       "mean       363.741547     500.415756    958.107265   984.102005  991.21875   \n",
       "std        123.606085     206.661318    110.316767    51.662269   27.06985   \n",
       "min        101.000000     110.000000    210.000000   310.000000  821.00000   \n",
       "25%        311.000000     331.000000    998.000000   998.000000  998.00000   \n",
       "50%        400.000000     442.000000    998.000000   998.000000  998.00000   \n",
       "75%        400.000000     626.000000    998.000000   998.000000  998.00000   \n",
       "max        516.000000     956.000000    999.000000   999.000000  999.00000   \n",
       "\n",
       "                 LAT            LON  \n",
       "count  955339.000000  955339.000000  \n",
       "mean       33.993372    -118.074280  \n",
       "std         1.660523       5.755746  \n",
       "min         0.000000    -118.667600  \n",
       "25%        34.014500    -118.430700  \n",
       "50%        34.059000    -118.322500  \n",
       "75%        34.164900    -118.274000  \n",
       "max        34.334300       0.000000  "
      ]
     },
     "execution_count": 5,
     "metadata": {},
     "output_type": "execute_result"
    }
   ],
   "source": [
    "# Describe the Data\n",
    "df_cd.describe()"
   ]
  },
  {
   "cell_type": "code",
   "execution_count": 6,
   "id": "b8e38d33",
   "metadata": {
    "execution": {
     "iopub.execute_input": "2024-09-17T05:27:58.002409Z",
     "iopub.status.busy": "2024-09-17T05:27:58.001929Z",
     "iopub.status.idle": "2024-09-17T05:27:58.011498Z",
     "shell.execute_reply": "2024-09-17T05:27:58.010344Z"
    },
    "papermill": {
     "duration": 0.023698,
     "end_time": "2024-09-17T05:27:58.014090",
     "exception": false,
     "start_time": "2024-09-17T05:27:57.990392",
     "status": "completed"
    },
    "tags": []
   },
   "outputs": [
    {
     "data": {
      "text/plain": [
       "DR_NO               int64\n",
       "Date Rptd          object\n",
       "DATE OCC           object\n",
       "TIME OCC            int64\n",
       "AREA                int64\n",
       "AREA NAME          object\n",
       "Rpt Dist No         int64\n",
       "Part 1-2            int64\n",
       "Crm Cd              int64\n",
       "Crm Cd Desc        object\n",
       "Mocodes            object\n",
       "Vict Age            int64\n",
       "Vict Sex           object\n",
       "Vict Descent       object\n",
       "Premis Cd         float64\n",
       "Premis Desc        object\n",
       "Weapon Used Cd    float64\n",
       "Weapon Desc        object\n",
       "Status             object\n",
       "Status Desc        object\n",
       "Crm Cd 1          float64\n",
       "Crm Cd 2          float64\n",
       "Crm Cd 3          float64\n",
       "Crm Cd 4          float64\n",
       "LOCATION           object\n",
       "Cross Street       object\n",
       "LAT               float64\n",
       "LON               float64\n",
       "dtype: object"
      ]
     },
     "execution_count": 6,
     "metadata": {},
     "output_type": "execute_result"
    }
   ],
   "source": [
    "# Check data types of columns\n",
    "df_cd.dtypes"
   ]
  },
  {
   "cell_type": "code",
   "execution_count": 7,
   "id": "74a27fa1",
   "metadata": {
    "execution": {
     "iopub.execute_input": "2024-09-17T05:27:58.036819Z",
     "iopub.status.busy": "2024-09-17T05:27:58.036296Z",
     "iopub.status.idle": "2024-09-17T05:27:58.354254Z",
     "shell.execute_reply": "2024-09-17T05:27:58.353113Z"
    },
    "papermill": {
     "duration": 0.332575,
     "end_time": "2024-09-17T05:27:58.357014",
     "exception": false,
     "start_time": "2024-09-17T05:27:58.024439",
     "status": "completed"
    },
    "tags": []
   },
   "outputs": [
    {
     "data": {
      "text/plain": [
       "<bound method DataFrame.info of             DR_NO               Date Rptd                DATE OCC  TIME OCC  \\\n",
       "0       190326475  03/01/2020 12:00:00 AM  03/01/2020 12:00:00 AM      2130   \n",
       "1       200106753  02/09/2020 12:00:00 AM  02/08/2020 12:00:00 AM      1800   \n",
       "2       200320258  11/11/2020 12:00:00 AM  11/04/2020 12:00:00 AM      1700   \n",
       "3       200907217  05/10/2023 12:00:00 AM  03/10/2020 12:00:00 AM      2037   \n",
       "4       220614831  08/18/2022 12:00:00 AM  08/17/2020 12:00:00 AM      1200   \n",
       "...           ...                     ...                     ...       ...   \n",
       "955334  241604405  01/14/2024 12:00:00 AM  01/13/2024 12:00:00 AM       720   \n",
       "955335  242106032  02/20/2024 12:00:00 AM  02/17/2024 12:00:00 AM      2330   \n",
       "955336  242004546  01/16/2024 12:00:00 AM  01/16/2024 12:00:00 AM      1510   \n",
       "955337  240104953  01/15/2024 12:00:00 AM  01/15/2024 12:00:00 AM       100   \n",
       "955338  240309674  04/24/2024 12:00:00 AM  04/24/2024 12:00:00 AM      1500   \n",
       "\n",
       "        AREA  AREA NAME  Rpt Dist No  Part 1-2  Crm Cd  \\\n",
       "0          7   Wilshire          784         1     510   \n",
       "1          1    Central          182         1     330   \n",
       "2          3  Southwest          356         1     480   \n",
       "3          9   Van Nuys          964         1     343   \n",
       "4          6  Hollywood          666         2     354   \n",
       "...      ...        ...          ...       ...     ...   \n",
       "955334    16   Foothill         1673         1     230   \n",
       "955335    21    Topanga         2103         1     420   \n",
       "955336    20    Olympic         2013         2     624   \n",
       "955337     1    Central          101         2     745   \n",
       "955338     3  Southwest          358         1     230   \n",
       "\n",
       "                                            Crm Cd Desc  ... Status  \\\n",
       "0                                      VEHICLE - STOLEN  ...     AA   \n",
       "1                                 BURGLARY FROM VEHICLE  ...     IC   \n",
       "2                                         BIKE - STOLEN  ...     IC   \n",
       "3              SHOPLIFTING-GRAND THEFT ($950.01 & OVER)  ...     IC   \n",
       "4                                     THEFT OF IDENTITY  ...     IC   \n",
       "...                                                 ...  ...    ...   \n",
       "955334   ASSAULT WITH DEADLY WEAPON, AGGRAVATED ASSAULT  ...     IC   \n",
       "955335  THEFT FROM MOTOR VEHICLE - PETTY ($950 & UNDER)  ...     IC   \n",
       "955336                         BATTERY - SIMPLE ASSAULT  ...     IC   \n",
       "955337         VANDALISM - MISDEAMEANOR ($399 OR UNDER)  ...     IC   \n",
       "955338   ASSAULT WITH DEADLY WEAPON, AGGRAVATED ASSAULT  ...     IC   \n",
       "\n",
       "         Status Desc Crm Cd 1 Crm Cd 2  Crm Cd 3 Crm Cd 4  \\\n",
       "0       Adult Arrest    510.0    998.0       NaN      NaN   \n",
       "1        Invest Cont    330.0    998.0       NaN      NaN   \n",
       "2        Invest Cont    480.0      NaN       NaN      NaN   \n",
       "3        Invest Cont    343.0      NaN       NaN      NaN   \n",
       "4        Invest Cont    354.0      NaN       NaN      NaN   \n",
       "...              ...      ...      ...       ...      ...   \n",
       "955334   Invest Cont    230.0      NaN       NaN      NaN   \n",
       "955335   Invest Cont    420.0      NaN       NaN      NaN   \n",
       "955336   Invest Cont    624.0      NaN       NaN      NaN   \n",
       "955337   Invest Cont    745.0      NaN       NaN      NaN   \n",
       "955338   Invest Cont    230.0      NaN       NaN      NaN   \n",
       "\n",
       "                                        LOCATION  \\\n",
       "0        1900 S  LONGWOOD                     AV   \n",
       "1        1000 S  FLOWER                       ST   \n",
       "2        1400 W  37TH                         ST   \n",
       "3       14000    RIVERSIDE                    DR   \n",
       "4                              1900    TRANSIENT   \n",
       "...                                          ...   \n",
       "955334   8700    LANKERSHIM                   BL   \n",
       "955335  22700    NAPA                         ST   \n",
       "955336           HOBART                       BL   \n",
       "955337   1300 W  SUNSET                       BL   \n",
       "955338           FLOWER                       ST   \n",
       "\n",
       "                           Cross Street      LAT       LON  \n",
       "0                                   NaN  34.0375 -118.3506  \n",
       "1                                   NaN  34.0444 -118.2628  \n",
       "2                                   NaN  34.0210 -118.3002  \n",
       "3                                   NaN  34.1576 -118.4387  \n",
       "4                                   NaN  34.0944 -118.3277  \n",
       "...                                 ...      ...       ...  \n",
       "955334                              NaN  34.2271 -118.3878  \n",
       "955335                              NaN  34.2260 -118.6214  \n",
       "955336  3RD                          ST  34.0690 -118.3054  \n",
       "955337                              NaN  34.0685 -118.2460  \n",
       "955338  JEFFERSON                    BL  34.0215 -118.2868  \n",
       "\n",
       "[955339 rows x 28 columns]>"
      ]
     },
     "execution_count": 7,
     "metadata": {},
     "output_type": "execute_result"
    }
   ],
   "source": [
    "df_cd.info"
   ]
  },
  {
   "cell_type": "code",
   "execution_count": 8,
   "id": "47101901",
   "metadata": {
    "execution": {
     "iopub.execute_input": "2024-09-17T05:27:58.381014Z",
     "iopub.status.busy": "2024-09-17T05:27:58.380567Z",
     "iopub.status.idle": "2024-09-17T05:27:59.612374Z",
     "shell.execute_reply": "2024-09-17T05:27:59.611264Z"
    },
    "papermill": {
     "duration": 1.24628,
     "end_time": "2024-09-17T05:27:59.614861",
     "exception": false,
     "start_time": "2024-09-17T05:27:58.368581",
     "status": "completed"
    },
    "tags": []
   },
   "outputs": [
    {
     "data": {
      "text/plain": [
       "DR_NO                  0\n",
       "Date Rptd              0\n",
       "DATE OCC               0\n",
       "TIME OCC               0\n",
       "AREA                   0\n",
       "AREA NAME              0\n",
       "Rpt Dist No            0\n",
       "Part 1-2               0\n",
       "Crm Cd                 0\n",
       "Crm Cd Desc            0\n",
       "Mocodes           136675\n",
       "Vict Age               0\n",
       "Vict Sex          130045\n",
       "Vict Descent      130055\n",
       "Premis Cd             12\n",
       "Premis Desc          569\n",
       "Weapon Used Cd    630320\n",
       "Weapon Desc       630320\n",
       "Status                 1\n",
       "Status Desc            0\n",
       "Crm Cd 1              11\n",
       "Crm Cd 2          886873\n",
       "Crm Cd 3          953045\n",
       "Crm Cd 4          955275\n",
       "LOCATION               0\n",
       "Cross Street      806439\n",
       "LAT                    0\n",
       "LON                    0\n",
       "dtype: int64"
      ]
     },
     "execution_count": 8,
     "metadata": {},
     "output_type": "execute_result"
    }
   ],
   "source": [
    "# Check for missing values\n",
    "df_cd.isnull().sum()"
   ]
  },
  {
   "cell_type": "code",
   "execution_count": 9,
   "id": "35517b6e",
   "metadata": {
    "execution": {
     "iopub.execute_input": "2024-09-17T05:27:59.638174Z",
     "iopub.status.busy": "2024-09-17T05:27:59.637713Z",
     "iopub.status.idle": "2024-09-17T05:28:00.856557Z",
     "shell.execute_reply": "2024-09-17T05:28:00.855406Z"
    },
    "papermill": {
     "duration": 1.233579,
     "end_time": "2024-09-17T05:28:00.859271",
     "exception": false,
     "start_time": "2024-09-17T05:27:59.625692",
     "status": "completed"
    },
    "tags": []
   },
   "outputs": [
    {
     "name": "stdout",
     "output_type": "stream",
     "text": [
      "Columns with missing values:\n",
      " Mocodes           136675\n",
      "Vict Sex          130045\n",
      "Vict Descent      130055\n",
      "Premis Cd             12\n",
      "Premis Desc          569\n",
      "Weapon Used Cd    630320\n",
      "Weapon Desc       630320\n",
      "Status                 1\n",
      "Crm Cd 1              11\n",
      "Crm Cd 2          886873\n",
      "Crm Cd 3          953045\n",
      "Crm Cd 4          955275\n",
      "Cross Street      806439\n",
      "dtype: int64\n"
     ]
    }
   ],
   "source": [
    "# Check for missing values in the dataset\n",
    "missing_values = df_cd.isnull().sum()\n",
    "\n",
    "# Filter out columns that have missing values\n",
    "missing_columns = missing_values[missing_values > 0]\n",
    "\n",
    "# Display the columns with missing values and their count\n",
    "if missing_columns.empty:\n",
    "    print(\"No missing values in the dataset.\")\n",
    "else:\n",
    "    print(\"Columns with missing values:\\n\", missing_columns)"
   ]
  },
  {
   "cell_type": "code",
   "execution_count": 10,
   "id": "c8de75c1",
   "metadata": {
    "execution": {
     "iopub.execute_input": "2024-09-17T05:28:00.883238Z",
     "iopub.status.busy": "2024-09-17T05:28:00.882220Z",
     "iopub.status.idle": "2024-09-17T05:28:08.722163Z",
     "shell.execute_reply": "2024-09-17T05:28:08.720920Z"
    },
    "papermill": {
     "duration": 7.854963,
     "end_time": "2024-09-17T05:28:08.725091",
     "exception": false,
     "start_time": "2024-09-17T05:28:00.870128",
     "status": "completed"
    },
    "tags": []
   },
   "outputs": [],
   "source": [
    "# Convert date & time columns to datetime\n",
    "df_cd['Date Rptd'] = pd.to_datetime(df_cd['Date Rptd'], format='%m/%d/%Y %I:%M:%S %p', errors='coerce')\n",
    "df_cd['DATE OCC'] = pd.to_datetime(df_cd['DATE OCC'], format='%m/%d/%Y %I:%M:%S %p', errors='coerce')\n",
    "df_cd['TIME OCC'] = df_cd['TIME OCC'].astype(str).str.zfill(4)"
   ]
  },
  {
   "cell_type": "code",
   "execution_count": 11,
   "id": "b0134851",
   "metadata": {
    "execution": {
     "iopub.execute_input": "2024-09-17T05:28:08.750031Z",
     "iopub.status.busy": "2024-09-17T05:28:08.748705Z",
     "iopub.status.idle": "2024-09-17T05:28:09.939191Z",
     "shell.execute_reply": "2024-09-17T05:28:09.937748Z"
    },
    "papermill": {
     "duration": 1.205371,
     "end_time": "2024-09-17T05:28:09.941819",
     "exception": false,
     "start_time": "2024-09-17T05:28:08.736448",
     "status": "completed"
    },
    "tags": []
   },
   "outputs": [
    {
     "name": "stdout",
     "output_type": "stream",
     "text": [
      "<class 'pandas.core.frame.DataFrame'>\n",
      "RangeIndex: 955339 entries, 0 to 955338\n",
      "Data columns (total 28 columns):\n",
      " #   Column          Non-Null Count   Dtype         \n",
      "---  ------          --------------   -----         \n",
      " 0   DR_NO           955339 non-null  int64         \n",
      " 1   Date Rptd       955339 non-null  datetime64[ns]\n",
      " 2   DATE OCC        955339 non-null  datetime64[ns]\n",
      " 3   TIME OCC        955339 non-null  object        \n",
      " 4   AREA            955339 non-null  int64         \n",
      " 5   AREA NAME       955339 non-null  object        \n",
      " 6   Rpt Dist No     955339 non-null  int64         \n",
      " 7   Part 1-2        955339 non-null  int64         \n",
      " 8   Crm Cd          955339 non-null  int64         \n",
      " 9   Crm Cd Desc     955339 non-null  object        \n",
      " 10  Mocodes         818664 non-null  object        \n",
      " 11  Vict Age        955339 non-null  int64         \n",
      " 12  Vict Sex        825294 non-null  object        \n",
      " 13  Vict Descent    825284 non-null  object        \n",
      " 14  Premis Cd       955327 non-null  float64       \n",
      " 15  Premis Desc     954770 non-null  object        \n",
      " 16  Weapon Used Cd  325019 non-null  float64       \n",
      " 17  Weapon Desc     325019 non-null  object        \n",
      " 18  Status          955338 non-null  object        \n",
      " 19  Status Desc     955339 non-null  object        \n",
      " 20  Crm Cd 1        955328 non-null  float64       \n",
      " 21  Crm Cd 2        68466 non-null   float64       \n",
      " 22  Crm Cd 3        2294 non-null    float64       \n",
      " 23  Crm Cd 4        64 non-null      float64       \n",
      " 24  LOCATION        955339 non-null  object        \n",
      " 25  Cross Street    148900 non-null  object        \n",
      " 26  LAT             955339 non-null  float64       \n",
      " 27  LON             955339 non-null  float64       \n",
      "dtypes: datetime64[ns](2), float64(8), int64(6), object(12)\n",
      "memory usage: 204.1+ MB\n"
     ]
    },
    {
     "data": {
      "text/html": [
       "<div>\n",
       "<style scoped>\n",
       "    .dataframe tbody tr th:only-of-type {\n",
       "        vertical-align: middle;\n",
       "    }\n",
       "\n",
       "    .dataframe tbody tr th {\n",
       "        vertical-align: top;\n",
       "    }\n",
       "\n",
       "    .dataframe thead th {\n",
       "        text-align: right;\n",
       "    }\n",
       "</style>\n",
       "<table border=\"1\" class=\"dataframe\">\n",
       "  <thead>\n",
       "    <tr style=\"text-align: right;\">\n",
       "      <th></th>\n",
       "      <th>DR_NO</th>\n",
       "      <th>Date Rptd</th>\n",
       "      <th>DATE OCC</th>\n",
       "      <th>TIME OCC</th>\n",
       "      <th>AREA</th>\n",
       "      <th>AREA NAME</th>\n",
       "      <th>Rpt Dist No</th>\n",
       "      <th>Part 1-2</th>\n",
       "      <th>Crm Cd</th>\n",
       "      <th>Crm Cd Desc</th>\n",
       "      <th>...</th>\n",
       "      <th>Status</th>\n",
       "      <th>Status Desc</th>\n",
       "      <th>Crm Cd 1</th>\n",
       "      <th>Crm Cd 2</th>\n",
       "      <th>Crm Cd 3</th>\n",
       "      <th>Crm Cd 4</th>\n",
       "      <th>LOCATION</th>\n",
       "      <th>Cross Street</th>\n",
       "      <th>LAT</th>\n",
       "      <th>LON</th>\n",
       "    </tr>\n",
       "  </thead>\n",
       "  <tbody>\n",
       "    <tr>\n",
       "      <th>0</th>\n",
       "      <td>190326475</td>\n",
       "      <td>2020-03-01</td>\n",
       "      <td>2020-03-01</td>\n",
       "      <td>2130</td>\n",
       "      <td>7</td>\n",
       "      <td>Wilshire</td>\n",
       "      <td>784</td>\n",
       "      <td>1</td>\n",
       "      <td>510</td>\n",
       "      <td>VEHICLE - STOLEN</td>\n",
       "      <td>...</td>\n",
       "      <td>AA</td>\n",
       "      <td>Adult Arrest</td>\n",
       "      <td>510.0</td>\n",
       "      <td>998.0</td>\n",
       "      <td>NaN</td>\n",
       "      <td>NaN</td>\n",
       "      <td>1900 S  LONGWOOD                     AV</td>\n",
       "      <td>NaN</td>\n",
       "      <td>34.0375</td>\n",
       "      <td>-118.3506</td>\n",
       "    </tr>\n",
       "    <tr>\n",
       "      <th>1</th>\n",
       "      <td>200106753</td>\n",
       "      <td>2020-02-09</td>\n",
       "      <td>2020-02-08</td>\n",
       "      <td>1800</td>\n",
       "      <td>1</td>\n",
       "      <td>Central</td>\n",
       "      <td>182</td>\n",
       "      <td>1</td>\n",
       "      <td>330</td>\n",
       "      <td>BURGLARY FROM VEHICLE</td>\n",
       "      <td>...</td>\n",
       "      <td>IC</td>\n",
       "      <td>Invest Cont</td>\n",
       "      <td>330.0</td>\n",
       "      <td>998.0</td>\n",
       "      <td>NaN</td>\n",
       "      <td>NaN</td>\n",
       "      <td>1000 S  FLOWER                       ST</td>\n",
       "      <td>NaN</td>\n",
       "      <td>34.0444</td>\n",
       "      <td>-118.2628</td>\n",
       "    </tr>\n",
       "    <tr>\n",
       "      <th>2</th>\n",
       "      <td>200320258</td>\n",
       "      <td>2020-11-11</td>\n",
       "      <td>2020-11-04</td>\n",
       "      <td>1700</td>\n",
       "      <td>3</td>\n",
       "      <td>Southwest</td>\n",
       "      <td>356</td>\n",
       "      <td>1</td>\n",
       "      <td>480</td>\n",
       "      <td>BIKE - STOLEN</td>\n",
       "      <td>...</td>\n",
       "      <td>IC</td>\n",
       "      <td>Invest Cont</td>\n",
       "      <td>480.0</td>\n",
       "      <td>NaN</td>\n",
       "      <td>NaN</td>\n",
       "      <td>NaN</td>\n",
       "      <td>1400 W  37TH                         ST</td>\n",
       "      <td>NaN</td>\n",
       "      <td>34.0210</td>\n",
       "      <td>-118.3002</td>\n",
       "    </tr>\n",
       "    <tr>\n",
       "      <th>3</th>\n",
       "      <td>200907217</td>\n",
       "      <td>2023-05-10</td>\n",
       "      <td>2020-03-10</td>\n",
       "      <td>2037</td>\n",
       "      <td>9</td>\n",
       "      <td>Van Nuys</td>\n",
       "      <td>964</td>\n",
       "      <td>1</td>\n",
       "      <td>343</td>\n",
       "      <td>SHOPLIFTING-GRAND THEFT ($950.01 &amp; OVER)</td>\n",
       "      <td>...</td>\n",
       "      <td>IC</td>\n",
       "      <td>Invest Cont</td>\n",
       "      <td>343.0</td>\n",
       "      <td>NaN</td>\n",
       "      <td>NaN</td>\n",
       "      <td>NaN</td>\n",
       "      <td>14000    RIVERSIDE                    DR</td>\n",
       "      <td>NaN</td>\n",
       "      <td>34.1576</td>\n",
       "      <td>-118.4387</td>\n",
       "    </tr>\n",
       "    <tr>\n",
       "      <th>4</th>\n",
       "      <td>220614831</td>\n",
       "      <td>2022-08-18</td>\n",
       "      <td>2020-08-17</td>\n",
       "      <td>1200</td>\n",
       "      <td>6</td>\n",
       "      <td>Hollywood</td>\n",
       "      <td>666</td>\n",
       "      <td>2</td>\n",
       "      <td>354</td>\n",
       "      <td>THEFT OF IDENTITY</td>\n",
       "      <td>...</td>\n",
       "      <td>IC</td>\n",
       "      <td>Invest Cont</td>\n",
       "      <td>354.0</td>\n",
       "      <td>NaN</td>\n",
       "      <td>NaN</td>\n",
       "      <td>NaN</td>\n",
       "      <td>1900    TRANSIENT</td>\n",
       "      <td>NaN</td>\n",
       "      <td>34.0944</td>\n",
       "      <td>-118.3277</td>\n",
       "    </tr>\n",
       "  </tbody>\n",
       "</table>\n",
       "<p>5 rows × 28 columns</p>\n",
       "</div>"
      ],
      "text/plain": [
       "       DR_NO  Date Rptd   DATE OCC TIME OCC  AREA  AREA NAME  Rpt Dist No  \\\n",
       "0  190326475 2020-03-01 2020-03-01     2130     7   Wilshire          784   \n",
       "1  200106753 2020-02-09 2020-02-08     1800     1    Central          182   \n",
       "2  200320258 2020-11-11 2020-11-04     1700     3  Southwest          356   \n",
       "3  200907217 2023-05-10 2020-03-10     2037     9   Van Nuys          964   \n",
       "4  220614831 2022-08-18 2020-08-17     1200     6  Hollywood          666   \n",
       "\n",
       "   Part 1-2  Crm Cd                               Crm Cd Desc  ... Status  \\\n",
       "0         1     510                          VEHICLE - STOLEN  ...     AA   \n",
       "1         1     330                     BURGLARY FROM VEHICLE  ...     IC   \n",
       "2         1     480                             BIKE - STOLEN  ...     IC   \n",
       "3         1     343  SHOPLIFTING-GRAND THEFT ($950.01 & OVER)  ...     IC   \n",
       "4         2     354                         THEFT OF IDENTITY  ...     IC   \n",
       "\n",
       "    Status Desc Crm Cd 1 Crm Cd 2  Crm Cd 3 Crm Cd 4  \\\n",
       "0  Adult Arrest    510.0    998.0       NaN      NaN   \n",
       "1   Invest Cont    330.0    998.0       NaN      NaN   \n",
       "2   Invest Cont    480.0      NaN       NaN      NaN   \n",
       "3   Invest Cont    343.0      NaN       NaN      NaN   \n",
       "4   Invest Cont    354.0      NaN       NaN      NaN   \n",
       "\n",
       "                                   LOCATION Cross Street      LAT       LON  \n",
       "0   1900 S  LONGWOOD                     AV          NaN  34.0375 -118.3506  \n",
       "1   1000 S  FLOWER                       ST          NaN  34.0444 -118.2628  \n",
       "2   1400 W  37TH                         ST          NaN  34.0210 -118.3002  \n",
       "3  14000    RIVERSIDE                    DR          NaN  34.1576 -118.4387  \n",
       "4                         1900    TRANSIENT          NaN  34.0944 -118.3277  \n",
       "\n",
       "[5 rows x 28 columns]"
      ]
     },
     "execution_count": 11,
     "metadata": {},
     "output_type": "execute_result"
    }
   ],
   "source": [
    "# Verify changes\n",
    "df_cd.info()\n",
    "df_cd.head()"
   ]
  },
  {
   "cell_type": "code",
   "execution_count": 12,
   "id": "a93a5d13",
   "metadata": {
    "execution": {
     "iopub.execute_input": "2024-09-17T05:28:09.966845Z",
     "iopub.status.busy": "2024-09-17T05:28:09.965978Z",
     "iopub.status.idle": "2024-09-17T05:28:12.022007Z",
     "shell.execute_reply": "2024-09-17T05:28:12.020881Z"
    },
    "papermill": {
     "duration": 2.071512,
     "end_time": "2024-09-17T05:28:12.024701",
     "exception": false,
     "start_time": "2024-09-17T05:28:09.953189",
     "status": "completed"
    },
    "tags": []
   },
   "outputs": [
    {
     "name": "stderr",
     "output_type": "stream",
     "text": [
      "/tmp/ipykernel_17/2851833917.py:2: FutureWarning: A value is trying to be set on a copy of a DataFrame or Series through chained assignment using an inplace method.\n",
      "The behavior will change in pandas 3.0. This inplace method will never work because the intermediate object on which we are setting values always behaves as a copy.\n",
      "\n",
      "For example, when doing 'df[col].method(value, inplace=True)', try using 'df.method({col: value}, inplace=True)' or df[col] = df[col].method(value) instead, to perform the operation inplace on the original object.\n",
      "\n",
      "\n",
      "  df_cd['Vict Sex'].fillna('Unknown', inplace=True)\n",
      "/tmp/ipykernel_17/2851833917.py:3: FutureWarning: A value is trying to be set on a copy of a DataFrame or Series through chained assignment using an inplace method.\n",
      "The behavior will change in pandas 3.0. This inplace method will never work because the intermediate object on which we are setting values always behaves as a copy.\n",
      "\n",
      "For example, when doing 'df[col].method(value, inplace=True)', try using 'df.method({col: value}, inplace=True)' or df[col] = df[col].method(value) instead, to perform the operation inplace on the original object.\n",
      "\n",
      "\n",
      "  df_cd['Vict Descent'].fillna('Unknown', inplace=True)\n",
      "/tmp/ipykernel_17/2851833917.py:4: FutureWarning: A value is trying to be set on a copy of a DataFrame or Series through chained assignment using an inplace method.\n",
      "The behavior will change in pandas 3.0. This inplace method will never work because the intermediate object on which we are setting values always behaves as a copy.\n",
      "\n",
      "For example, when doing 'df[col].method(value, inplace=True)', try using 'df.method({col: value}, inplace=True)' or df[col] = df[col].method(value) instead, to perform the operation inplace on the original object.\n",
      "\n",
      "\n",
      "  df_cd['Premis Cd'].fillna(df_cd['Premis Cd'].mode()[0], inplace=True)\n",
      "/tmp/ipykernel_17/2851833917.py:5: FutureWarning: A value is trying to be set on a copy of a DataFrame or Series through chained assignment using an inplace method.\n",
      "The behavior will change in pandas 3.0. This inplace method will never work because the intermediate object on which we are setting values always behaves as a copy.\n",
      "\n",
      "For example, when doing 'df[col].method(value, inplace=True)', try using 'df.method({col: value}, inplace=True)' or df[col] = df[col].method(value) instead, to perform the operation inplace on the original object.\n",
      "\n",
      "\n",
      "  df_cd['Premis Desc'].fillna('Unknown', inplace=True)\n",
      "/tmp/ipykernel_17/2851833917.py:6: FutureWarning: A value is trying to be set on a copy of a DataFrame or Series through chained assignment using an inplace method.\n",
      "The behavior will change in pandas 3.0. This inplace method will never work because the intermediate object on which we are setting values always behaves as a copy.\n",
      "\n",
      "For example, when doing 'df[col].method(value, inplace=True)', try using 'df.method({col: value}, inplace=True)' or df[col] = df[col].method(value) instead, to perform the operation inplace on the original object.\n",
      "\n",
      "\n",
      "  df_cd['Crm Cd 1'].fillna(df_cd['Crm Cd 1'].mode()[0], inplace=True)\n",
      "/tmp/ipykernel_17/2851833917.py:7: FutureWarning: A value is trying to be set on a copy of a DataFrame or Series through chained assignment using an inplace method.\n",
      "The behavior will change in pandas 3.0. This inplace method will never work because the intermediate object on which we are setting values always behaves as a copy.\n",
      "\n",
      "For example, when doing 'df[col].method(value, inplace=True)', try using 'df.method({col: value}, inplace=True)' or df[col] = df[col].method(value) instead, to perform the operation inplace on the original object.\n",
      "\n",
      "\n",
      "  df_cd['Weapon Used Cd'].fillna('Unknown', inplace=True)\n",
      "/tmp/ipykernel_17/2851833917.py:7: FutureWarning: Setting an item of incompatible dtype is deprecated and will raise an error in a future version of pandas. Value 'Unknown' has dtype incompatible with float64, please explicitly cast to a compatible dtype first.\n",
      "  df_cd['Weapon Used Cd'].fillna('Unknown', inplace=True)\n",
      "/tmp/ipykernel_17/2851833917.py:8: FutureWarning: A value is trying to be set on a copy of a DataFrame or Series through chained assignment using an inplace method.\n",
      "The behavior will change in pandas 3.0. This inplace method will never work because the intermediate object on which we are setting values always behaves as a copy.\n",
      "\n",
      "For example, when doing 'df[col].method(value, inplace=True)', try using 'df.method({col: value}, inplace=True)' or df[col] = df[col].method(value) instead, to perform the operation inplace on the original object.\n",
      "\n",
      "\n",
      "  df_cd['Weapon Desc'].fillna('Unknown', inplace=True)\n"
     ]
    },
    {
     "name": "stdout",
     "output_type": "stream",
     "text": [
      "<class 'pandas.core.frame.DataFrame'>\n",
      "RangeIndex: 955339 entries, 0 to 955338\n",
      "Data columns (total 23 columns):\n",
      " #   Column          Non-Null Count   Dtype         \n",
      "---  ------          --------------   -----         \n",
      " 0   DR_NO           955339 non-null  int64         \n",
      " 1   Date Rptd       955339 non-null  datetime64[ns]\n",
      " 2   DATE OCC        955339 non-null  datetime64[ns]\n",
      " 3   TIME OCC        955339 non-null  object        \n",
      " 4   AREA            955339 non-null  int64         \n",
      " 5   AREA NAME       955339 non-null  object        \n",
      " 6   Rpt Dist No     955339 non-null  int64         \n",
      " 7   Part 1-2        955339 non-null  int64         \n",
      " 8   Crm Cd          955339 non-null  int64         \n",
      " 9   Crm Cd Desc     955339 non-null  object        \n",
      " 10  Vict Age        955339 non-null  int64         \n",
      " 11  Vict Sex        955339 non-null  object        \n",
      " 12  Vict Descent    955339 non-null  object        \n",
      " 13  Premis Cd       955339 non-null  float64       \n",
      " 14  Premis Desc     955339 non-null  object        \n",
      " 15  Weapon Used Cd  955339 non-null  object        \n",
      " 16  Weapon Desc     955339 non-null  object        \n",
      " 17  Status          955338 non-null  object        \n",
      " 18  Status Desc     955339 non-null  object        \n",
      " 19  Crm Cd 1        955339 non-null  float64       \n",
      " 20  LOCATION        955339 non-null  object        \n",
      " 21  LAT             955339 non-null  float64       \n",
      " 22  LON             955339 non-null  float64       \n",
      "dtypes: datetime64[ns](2), float64(4), int64(6), object(11)\n",
      "memory usage: 167.6+ MB\n"
     ]
    }
   ],
   "source": [
    "# Fill missing values\n",
    "df_cd['Vict Sex'].fillna('Unknown', inplace=True)\n",
    "df_cd['Vict Descent'].fillna('Unknown', inplace=True)\n",
    "df_cd['Premis Cd'].fillna(df_cd['Premis Cd'].mode()[0], inplace=True)\n",
    "df_cd['Premis Desc'].fillna('Unknown', inplace=True)\n",
    "df_cd['Crm Cd 1'].fillna(df_cd['Crm Cd 1'].mode()[0], inplace=True)\n",
    "df_cd['Weapon Used Cd'].fillna('Unknown', inplace=True)\n",
    "df_cd['Weapon Desc'].fillna('Unknown', inplace=True)\n",
    "\n",
    "# Drop columns with too many missing values\n",
    "df_cd.drop(columns=['Crm Cd 2', 'Crm Cd 3', 'Crm Cd 4', 'Cross Street'], inplace=True)\n",
    "\n",
    "# Drop the columns which have may not be relavant as there are other data available\n",
    "df_cd.drop(columns=['Mocodes'], inplace=True)\n",
    "\n",
    "# Verify changes\n",
    "df_cd.info()"
   ]
  },
  {
   "cell_type": "code",
   "execution_count": 13,
   "id": "ec9d21f2",
   "metadata": {
    "execution": {
     "iopub.execute_input": "2024-09-17T05:28:12.050587Z",
     "iopub.status.busy": "2024-09-17T05:28:12.050136Z",
     "iopub.status.idle": "2024-09-17T05:28:12.552549Z",
     "shell.execute_reply": "2024-09-17T05:28:12.551522Z"
    },
    "papermill": {
     "duration": 0.518096,
     "end_time": "2024-09-17T05:28:12.555081",
     "exception": false,
     "start_time": "2024-09-17T05:28:12.036985",
     "status": "completed"
    },
    "tags": []
   },
   "outputs": [
    {
     "data": {
      "text/html": [
       "<div>\n",
       "<style scoped>\n",
       "    .dataframe tbody tr th:only-of-type {\n",
       "        vertical-align: middle;\n",
       "    }\n",
       "\n",
       "    .dataframe tbody tr th {\n",
       "        vertical-align: top;\n",
       "    }\n",
       "\n",
       "    .dataframe thead th {\n",
       "        text-align: right;\n",
       "    }\n",
       "</style>\n",
       "<table border=\"1\" class=\"dataframe\">\n",
       "  <thead>\n",
       "    <tr style=\"text-align: right;\">\n",
       "      <th></th>\n",
       "      <th>DR_NO</th>\n",
       "      <th>Date Rptd</th>\n",
       "      <th>DATE OCC</th>\n",
       "      <th>AREA</th>\n",
       "      <th>Rpt Dist No</th>\n",
       "      <th>Part 1-2</th>\n",
       "      <th>Crm Cd</th>\n",
       "      <th>Vict Age</th>\n",
       "      <th>Premis Cd</th>\n",
       "      <th>Crm Cd 1</th>\n",
       "      <th>LAT</th>\n",
       "      <th>LON</th>\n",
       "    </tr>\n",
       "  </thead>\n",
       "  <tbody>\n",
       "    <tr>\n",
       "      <th>count</th>\n",
       "      <td>9.553390e+05</td>\n",
       "      <td>955339</td>\n",
       "      <td>955339</td>\n",
       "      <td>955339.000000</td>\n",
       "      <td>955339.000000</td>\n",
       "      <td>955339.000000</td>\n",
       "      <td>955339.000000</td>\n",
       "      <td>955339.000000</td>\n",
       "      <td>955339.000000</td>\n",
       "      <td>955339.000000</td>\n",
       "      <td>955339.000000</td>\n",
       "      <td>955339.000000</td>\n",
       "    </tr>\n",
       "    <tr>\n",
       "      <th>mean</th>\n",
       "      <td>2.191355e+08</td>\n",
       "      <td>2022-04-11 17:54:26.347547648</td>\n",
       "      <td>2022-03-31 03:54:28.073426688</td>\n",
       "      <td>10.718033</td>\n",
       "      <td>1118.243545</td>\n",
       "      <td>1.407805</td>\n",
       "      <td>500.667710</td>\n",
       "      <td>29.383110</td>\n",
       "      <td>306.252621</td>\n",
       "      <td>500.415866</td>\n",
       "      <td>33.993372</td>\n",
       "      <td>-118.074280</td>\n",
       "    </tr>\n",
       "    <tr>\n",
       "      <th>min</th>\n",
       "      <td>8.170000e+02</td>\n",
       "      <td>2020-01-01 00:00:00</td>\n",
       "      <td>2020-01-01 00:00:00</td>\n",
       "      <td>1.000000</td>\n",
       "      <td>101.000000</td>\n",
       "      <td>1.000000</td>\n",
       "      <td>110.000000</td>\n",
       "      <td>-4.000000</td>\n",
       "      <td>101.000000</td>\n",
       "      <td>110.000000</td>\n",
       "      <td>0.000000</td>\n",
       "      <td>-118.667600</td>\n",
       "    </tr>\n",
       "    <tr>\n",
       "      <th>25%</th>\n",
       "      <td>2.105125e+08</td>\n",
       "      <td>2021-03-28 00:00:00</td>\n",
       "      <td>2021-03-14 00:00:00</td>\n",
       "      <td>6.000000</td>\n",
       "      <td>621.000000</td>\n",
       "      <td>1.000000</td>\n",
       "      <td>331.000000</td>\n",
       "      <td>0.000000</td>\n",
       "      <td>101.000000</td>\n",
       "      <td>331.000000</td>\n",
       "      <td>34.014500</td>\n",
       "      <td>-118.430700</td>\n",
       "    </tr>\n",
       "    <tr>\n",
       "      <th>50%</th>\n",
       "      <td>2.207106e+08</td>\n",
       "      <td>2022-05-02 00:00:00</td>\n",
       "      <td>2022-04-18 00:00:00</td>\n",
       "      <td>11.000000</td>\n",
       "      <td>1142.000000</td>\n",
       "      <td>1.000000</td>\n",
       "      <td>442.000000</td>\n",
       "      <td>30.000000</td>\n",
       "      <td>203.000000</td>\n",
       "      <td>442.000000</td>\n",
       "      <td>34.059000</td>\n",
       "      <td>-118.322500</td>\n",
       "    </tr>\n",
       "    <tr>\n",
       "      <th>75%</th>\n",
       "      <td>2.307171e+08</td>\n",
       "      <td>2023-05-05 00:00:00</td>\n",
       "      <td>2023-04-23 00:00:00</td>\n",
       "      <td>16.000000</td>\n",
       "      <td>1618.000000</td>\n",
       "      <td>2.000000</td>\n",
       "      <td>626.000000</td>\n",
       "      <td>45.000000</td>\n",
       "      <td>501.000000</td>\n",
       "      <td>626.000000</td>\n",
       "      <td>34.164900</td>\n",
       "      <td>-118.274000</td>\n",
       "    </tr>\n",
       "    <tr>\n",
       "      <th>max</th>\n",
       "      <td>2.499187e+08</td>\n",
       "      <td>2024-06-24 00:00:00</td>\n",
       "      <td>2024-06-24 00:00:00</td>\n",
       "      <td>21.000000</td>\n",
       "      <td>2199.000000</td>\n",
       "      <td>2.000000</td>\n",
       "      <td>956.000000</td>\n",
       "      <td>120.000000</td>\n",
       "      <td>976.000000</td>\n",
       "      <td>956.000000</td>\n",
       "      <td>34.334300</td>\n",
       "      <td>0.000000</td>\n",
       "    </tr>\n",
       "    <tr>\n",
       "      <th>std</th>\n",
       "      <td>1.261589e+07</td>\n",
       "      <td>NaN</td>\n",
       "      <td>NaN</td>\n",
       "      <td>6.100431</td>\n",
       "      <td>610.098189</td>\n",
       "      <td>0.491427</td>\n",
       "      <td>206.867837</td>\n",
       "      <td>21.909695</td>\n",
       "      <td>217.844041</td>\n",
       "      <td>206.660131</td>\n",
       "      <td>1.660523</td>\n",
       "      <td>5.755746</td>\n",
       "    </tr>\n",
       "  </tbody>\n",
       "</table>\n",
       "</div>"
      ],
      "text/plain": [
       "              DR_NO                      Date Rptd  \\\n",
       "count  9.553390e+05                         955339   \n",
       "mean   2.191355e+08  2022-04-11 17:54:26.347547648   \n",
       "min    8.170000e+02            2020-01-01 00:00:00   \n",
       "25%    2.105125e+08            2021-03-28 00:00:00   \n",
       "50%    2.207106e+08            2022-05-02 00:00:00   \n",
       "75%    2.307171e+08            2023-05-05 00:00:00   \n",
       "max    2.499187e+08            2024-06-24 00:00:00   \n",
       "std    1.261589e+07                            NaN   \n",
       "\n",
       "                            DATE OCC           AREA    Rpt Dist No  \\\n",
       "count                         955339  955339.000000  955339.000000   \n",
       "mean   2022-03-31 03:54:28.073426688      10.718033    1118.243545   \n",
       "min              2020-01-01 00:00:00       1.000000     101.000000   \n",
       "25%              2021-03-14 00:00:00       6.000000     621.000000   \n",
       "50%              2022-04-18 00:00:00      11.000000    1142.000000   \n",
       "75%              2023-04-23 00:00:00      16.000000    1618.000000   \n",
       "max              2024-06-24 00:00:00      21.000000    2199.000000   \n",
       "std                              NaN       6.100431     610.098189   \n",
       "\n",
       "            Part 1-2         Crm Cd       Vict Age      Premis Cd  \\\n",
       "count  955339.000000  955339.000000  955339.000000  955339.000000   \n",
       "mean        1.407805     500.667710      29.383110     306.252621   \n",
       "min         1.000000     110.000000      -4.000000     101.000000   \n",
       "25%         1.000000     331.000000       0.000000     101.000000   \n",
       "50%         1.000000     442.000000      30.000000     203.000000   \n",
       "75%         2.000000     626.000000      45.000000     501.000000   \n",
       "max         2.000000     956.000000     120.000000     976.000000   \n",
       "std         0.491427     206.867837      21.909695     217.844041   \n",
       "\n",
       "            Crm Cd 1            LAT            LON  \n",
       "count  955339.000000  955339.000000  955339.000000  \n",
       "mean      500.415866      33.993372    -118.074280  \n",
       "min       110.000000       0.000000    -118.667600  \n",
       "25%       331.000000      34.014500    -118.430700  \n",
       "50%       442.000000      34.059000    -118.322500  \n",
       "75%       626.000000      34.164900    -118.274000  \n",
       "max       956.000000      34.334300       0.000000  \n",
       "std       206.660131       1.660523       5.755746  "
      ]
     },
     "execution_count": 13,
     "metadata": {},
     "output_type": "execute_result"
    }
   ],
   "source": [
    "# Describe the Data\n",
    "df_cd.describe()"
   ]
  },
  {
   "cell_type": "code",
   "execution_count": 14,
   "id": "9609b362",
   "metadata": {
    "execution": {
     "iopub.execute_input": "2024-09-17T05:28:12.582275Z",
     "iopub.status.busy": "2024-09-17T05:28:12.581251Z",
     "iopub.status.idle": "2024-09-17T05:28:13.711712Z",
     "shell.execute_reply": "2024-09-17T05:28:13.710458Z"
    },
    "papermill": {
     "duration": 1.146555,
     "end_time": "2024-09-17T05:28:13.714122",
     "exception": false,
     "start_time": "2024-09-17T05:28:12.567567",
     "status": "completed"
    },
    "tags": []
   },
   "outputs": [
    {
     "name": "stdout",
     "output_type": "stream",
     "text": [
      "Columns with missing values:\n",
      " Status    1\n",
      "dtype: int64\n"
     ]
    }
   ],
   "source": [
    "# Check for missing values in the dataset\n",
    "missing_values = df_cd.isnull().sum()\n",
    "\n",
    "# Filter out columns that have missing values\n",
    "missing_columns = missing_values[missing_values > 0]\n",
    "\n",
    "# Display the columns with missing values and their count\n",
    "if missing_columns.empty:\n",
    "    print(\"No missing values in the dataset.\")\n",
    "else:\n",
    "    print(\"Columns with missing values:\\n\", missing_columns)"
   ]
  },
  {
   "cell_type": "code",
   "execution_count": 15,
   "id": "c2b3395c",
   "metadata": {
    "execution": {
     "iopub.execute_input": "2024-09-17T05:28:13.740978Z",
     "iopub.status.busy": "2024-09-17T05:28:13.740454Z",
     "iopub.status.idle": "2024-09-17T05:28:14.267652Z",
     "shell.execute_reply": "2024-09-17T05:28:14.266546Z"
    },
    "papermill": {
     "duration": 0.543957,
     "end_time": "2024-09-17T05:28:14.270426",
     "exception": false,
     "start_time": "2024-09-17T05:28:13.726469",
     "status": "completed"
    },
    "tags": []
   },
   "outputs": [
    {
     "name": "stdout",
     "output_type": "stream",
     "text": [
      "Class distribution:\n",
      "AREA\n",
      "1     64737\n",
      "12    59719\n",
      "14    55792\n",
      "3     54129\n",
      "6     50035\n",
      "15    48556\n",
      "18    48127\n",
      "20    47840\n",
      "13    47125\n",
      "7     45734\n",
      "2     44440\n",
      "8     43509\n",
      "9     40830\n",
      "11    40661\n",
      "10    40400\n",
      "17    39603\n",
      "5     39485\n",
      "21    39403\n",
      "19    38244\n",
      "4     35156\n",
      "16    31814\n",
      "Name: count, dtype: int64\n"
     ]
    },
    {
     "data": {
      "image/png": "[encoded data removed]",
      "text/plain": [
       "<Figure size 600x400 with 1 Axes>"
      ]
     },
     "metadata": {},
     "output_type": "display_data"
    }
   ],
   "source": [
    "# Check the distribution of the AREA column\n",
    "class_distribution = df_cd['AREA'].value_counts()\n",
    "\n",
    "# Display the count of each area\n",
    "print(\"Class distribution:\")\n",
    "print(class_distribution)\n",
    "\n",
    "# Plot the distribution\n",
    "plt.figure(figsize=(6, 4))\n",
    "class_distribution.plot(kind='bar')\n",
    "plt.title('Class Distribution')\n",
    "plt.xlabel('Area')\n",
    "plt.ylabel('Crime')\n",
    "plt.show()"
   ]
  },
  {
   "cell_type": "code",
   "execution_count": 16,
   "id": "0426fbde",
   "metadata": {
    "execution": {
     "iopub.execute_input": "2024-09-17T05:28:14.299609Z",
     "iopub.status.busy": "2024-09-17T05:28:14.299069Z",
     "iopub.status.idle": "2024-09-17T05:28:15.590084Z",
     "shell.execute_reply": "2024-09-17T05:28:15.589030Z"
    },
    "papermill": {
     "duration": 1.308067,
     "end_time": "2024-09-17T05:28:15.592411",
     "exception": false,
     "start_time": "2024-09-17T05:28:14.284344",
     "status": "completed"
    },
    "tags": []
   },
   "outputs": [
    {
     "data": {
      "image/png": "[encoded data removed]",
      "text/plain": [
       "<Figure size 640x480 with 1 Axes>"
      ]
     },
     "metadata": {},
     "output_type": "display_data"
    }
   ],
   "source": [
    "sns.countplot(x='Crm Cd', data=df_cd)\n",
    "plt.show()"
   ]
  },
  {
   "cell_type": "code",
   "execution_count": 17,
   "id": "c856092c",
   "metadata": {
    "execution": {
     "iopub.execute_input": "2024-09-17T05:28:15.621764Z",
     "iopub.status.busy": "2024-09-17T05:28:15.620475Z",
     "iopub.status.idle": "2024-09-17T05:28:16.527385Z",
     "shell.execute_reply": "2024-09-17T05:28:16.526255Z"
    },
    "papermill": {
     "duration": 0.924218,
     "end_time": "2024-09-17T05:28:16.529978",
     "exception": false,
     "start_time": "2024-09-17T05:28:15.605760",
     "status": "completed"
    },
    "tags": []
   },
   "outputs": [
    {
     "data": {
      "image/png": "[encoded data removed]",
      "text/plain": [
       "<Figure size 640x480 with 2 Axes>"
      ]
     },
     "metadata": {},
     "output_type": "display_data"
    }
   ],
   "source": [
    "# Correlation heatmap\n",
    "plt.figure()\n",
    "sns.heatmap(df_cd.corr(numeric_only=True), annot=True, cmap='coolwarm', linewidths=0.3)\n",
    "plt.title('Feature Correlation Heatmap', fontsize=11)\n",
    "\n",
    "plt.show()"
   ]
  },
  {
   "cell_type": "code",
   "execution_count": 18,
   "id": "fef1f3ad",
   "metadata": {
    "execution": {
     "iopub.execute_input": "2024-09-17T05:28:16.561770Z",
     "iopub.status.busy": "2024-09-17T05:28:16.561297Z",
     "iopub.status.idle": "2024-09-17T05:28:24.543804Z",
     "shell.execute_reply": "2024-09-17T05:28:24.542568Z"
    },
    "papermill": {
     "duration": 8.0021,
     "end_time": "2024-09-17T05:28:24.547267",
     "exception": false,
     "start_time": "2024-09-17T05:28:16.545167",
     "status": "completed"
    },
    "tags": []
   },
   "outputs": [
    {
     "data": {
      "image/png": "[encoded data removed]",
      "text/plain": [
       "<Figure size 640x480 with 1 Axes>"
      ]
     },
     "metadata": {},
     "output_type": "display_data"
    }
   ],
   "source": [
    "from mpl_toolkits.mplot3d import Axes3D\n",
    "\n",
    "crime_counts = df_cd.groupby(['AREA', 'TIME OCC']).size().reset_index(name='Crime Count')\n",
    "\n",
    "\n",
    "# Create a 3D plot\n",
    "fig = plt.figure()\n",
    "ax = fig.add_subplot(111, projection='3d')\n",
    "\n",
    "# Plot data\n",
    "ax.scatter(crime_counts['TIME OCC'], crime_counts['AREA'], crime_counts['Crime Count'])\n",
    "\n",
    "# Set labels\n",
    "ax.set_xlabel('Time of Occurrence')\n",
    "ax.set_ylabel('Area')\n",
    "ax.set_zlabel('Crime Count')\n",
    "\n",
    "# Set title\n",
    "ax.set_title('3D Plot of Crime Count based on Time of Occurrence and Area')\n",
    "\n",
    "# Show plot\n",
    "plt.show()\n"
   ]
  },
  {
   "cell_type": "code",
   "execution_count": 19,
   "id": "364d9cdc",
   "metadata": {
    "execution": {
     "iopub.execute_input": "2024-09-17T05:28:24.581810Z",
     "iopub.status.busy": "2024-09-17T05:28:24.581361Z",
     "iopub.status.idle": "2024-09-17T05:28:24.680533Z",
     "shell.execute_reply": "2024-09-17T05:28:24.679226Z"
    },
    "papermill": {
     "duration": 0.119066,
     "end_time": "2024-09-17T05:28:24.682949",
     "exception": false,
     "start_time": "2024-09-17T05:28:24.563883",
     "status": "completed"
    },
    "tags": []
   },
   "outputs": [
    {
     "name": "stdout",
     "output_type": "stream",
     "text": [
      "Unique values in 'AREA NAME' column:\n",
      "['Wilshire' 'Central' 'Southwest' 'Van Nuys' 'Hollywood' 'Southeast'\n",
      " 'Newton' 'Mission' 'Rampart' 'West Valley' 'West LA' 'Olympic'\n",
      " 'Hollenbeck' 'Topanga' 'Northeast' '77th Street' 'Pacific' 'N Hollywood'\n",
      " 'Harbor' 'Foothill' 'Devonshire']\n"
     ]
    }
   ],
   "source": [
    "# Display unique values in the 'AREA NAME' column\n",
    "unique_area_names = df_cd['AREA NAME'].unique()\n",
    "print(\"Unique values in 'AREA NAME' column:\")\n",
    "print(unique_area_names)"
   ]
  },
  {
   "cell_type": "code",
   "execution_count": 20,
   "id": "87556b87",
   "metadata": {
    "execution": {
     "iopub.execute_input": "2024-09-17T05:28:24.718102Z",
     "iopub.status.busy": "2024-09-17T05:28:24.716861Z",
     "iopub.status.idle": "2024-09-17T05:28:24.729824Z",
     "shell.execute_reply": "2024-09-17T05:28:24.728621Z"
    },
    "papermill": {
     "duration": 0.03281,
     "end_time": "2024-09-17T05:28:24.732166",
     "exception": false,
     "start_time": "2024-09-17T05:28:24.699356",
     "status": "completed"
    },
    "tags": []
   },
   "outputs": [
    {
     "name": "stdout",
     "output_type": "stream",
     "text": [
      "Unique values in 'AREA' column:\n",
      "[ 7  1  3  9  6 18 13 19  2 10  8 20  4 21 11 12 14 15  5 16 17]\n"
     ]
    }
   ],
   "source": [
    "# Display unique values in the 'AREA' column\n",
    "unique_areas = df_cd['AREA'].unique()\n",
    "print(\"Unique values in 'AREA' column:\")\n",
    "print(unique_areas)"
   ]
  },
  {
   "cell_type": "code",
   "execution_count": 21,
   "id": "5c2f1bc4",
   "metadata": {
    "execution": {
     "iopub.execute_input": "2024-09-17T05:28:24.767453Z",
     "iopub.status.busy": "2024-09-17T05:28:24.766697Z",
     "iopub.status.idle": "2024-09-17T05:28:24.780546Z",
     "shell.execute_reply": "2024-09-17T05:28:24.779393Z"
    },
    "papermill": {
     "duration": 0.03438,
     "end_time": "2024-09-17T05:28:24.783100",
     "exception": false,
     "start_time": "2024-09-17T05:28:24.748720",
     "status": "completed"
    },
    "tags": []
   },
   "outputs": [
    {
     "name": "stdout",
     "output_type": "stream",
     "text": [
      "AREA to AREA NAME mapping:\n",
      "AREA 1: Central\n",
      "AREA 2: Rampart\n",
      "AREA 3: Southwest\n",
      "AREA 4: Hollenbeck\n",
      "AREA 5: Harbor\n",
      "AREA 6: Hollywood\n",
      "AREA 7: Wilshire\n",
      "AREA 8: West LA\n",
      "AREA 9: Van Nuys\n",
      "AREA 10: West Valley\n",
      "AREA 11: Northeast\n",
      "AREA 12: 77th Street\n",
      "AREA 13: Newton\n",
      "AREA 14: Pacific\n",
      "AREA 15: N Hollywood\n",
      "AREA 16: Foothill\n",
      "AREA 17: Devonshire\n",
      "AREA 18: Southeast\n",
      "AREA 19: Mission\n",
      "AREA 20: Olympic\n",
      "AREA 21: Topanga\n",
      "    AREA    AREA NAME\n",
      "0      1      Central\n",
      "1      2      Rampart\n",
      "2      3    Southwest\n",
      "3      4   Hollenbeck\n",
      "4      5       Harbor\n",
      "5      6    Hollywood\n",
      "6      7     Wilshire\n",
      "7      8      West LA\n",
      "8      9     Van Nuys\n",
      "9     10  West Valley\n",
      "10    11    Northeast\n",
      "11    12  77th Street\n",
      "12    13       Newton\n",
      "13    14      Pacific\n",
      "14    15  N Hollywood\n",
      "15    16     Foothill\n",
      "16    17   Devonshire\n",
      "17    18    Southeast\n",
      "18    19      Mission\n",
      "19    20      Olympic\n",
      "20    21      Topanga\n"
     ]
    }
   ],
   "source": [
    "# Create a DataFrame with the provided AREA and AREA NAME\n",
    "crime_loc = {\n",
    "    'AREA': [1, 2, 3, 4, 5, 6, 7, 8, 9, 10, 11, 12, 13, 14, 15, 16, 17, 18, 19, 20, 21],\n",
    "    'AREA NAME': ['Central', 'Rampart', 'Southwest', 'Hollenbeck', 'Harbor', 'Hollywood', 'Wilshire', 'West LA', 'Van Nuys', 'West Valley', 'Northeast', '77th Street', 'Newton', 'Pacific', 'N Hollywood', 'Foothill', 'Devonshire', 'Southeast', 'Mission', 'Olympic', 'Topanga']\n",
    "}\n",
    "\n",
    "df_cd = pd.DataFrame(crime_loc)\n",
    "\n",
    "# Create a dictionary mapping AREA to AREA NAME\n",
    "area_to_name = df_cd.set_index('AREA')['AREA NAME'].to_dict()\n",
    "\n",
    "# Display the mapping\n",
    "print(\"AREA to AREA NAME mapping:\")\n",
    "for area, name in area_to_name.items():\n",
    "    print(f\"AREA {area}: {name}\")\n",
    "\n",
    "# Verify the DataFrame\n",
    "print(df_cd)"
   ]
  },
  {
   "cell_type": "code",
   "execution_count": 22,
   "id": "ba1946f4",
   "metadata": {
    "execution": {
     "iopub.execute_input": "2024-09-17T05:28:24.818982Z",
     "iopub.status.busy": "2024-09-17T05:28:24.817986Z",
     "iopub.status.idle": "2024-09-17T05:28:24.823524Z",
     "shell.execute_reply": "2024-09-17T05:28:24.822422Z"
    },
    "papermill": {
     "duration": 0.025965,
     "end_time": "2024-09-17T05:28:24.825921",
     "exception": false,
     "start_time": "2024-09-17T05:28:24.799956",
     "status": "completed"
    },
    "tags": []
   },
   "outputs": [],
   "source": [
    "# Create a map centered around a default location (e.g., Los Angeles)\n",
    "#map_center = [34.0522, -118.2437]  # Coordinates for Los Angeles\n",
    "#crime_map = folium.Map(location=map_center, zoom_start=10)\n",
    "\n",
    "# Add markers to the map with AREA and AREA NAME\n",
    "#for idx, row in df_cd.iterrows():\n",
    "   # folium.Marker(\n",
    "   #     location=map_center,  # Using the same center location for all markers\n",
    "    #    popup=f\"AREA: {row['AREA']}<br>AREA NAME: {row['AREA NAME']}\",\n",
    "    #    tooltip=row['AREA NAME']\n",
    "    #).add_to(crime_map)\n",
    "\n",
    "# Save the map to an HTML file\n",
    "#crime_map.save('crime_map.html')\n",
    "\n",
    "# Display the map in a Jupyter notebook (optional)\n",
    "#crime_map\n"
   ]
  },
  {
   "cell_type": "code",
   "execution_count": 23,
   "id": "d49ceac6",
   "metadata": {
    "execution": {
     "iopub.execute_input": "2024-09-17T05:28:24.861277Z",
     "iopub.status.busy": "2024-09-17T05:28:24.860853Z",
     "iopub.status.idle": "2024-09-17T05:28:24.892232Z",
     "shell.execute_reply": "2024-09-17T05:28:24.891112Z"
    },
    "papermill": {
     "duration": 0.053533,
     "end_time": "2024-09-17T05:28:24.896125",
     "exception": false,
     "start_time": "2024-09-17T05:28:24.842592",
     "status": "completed"
    },
    "tags": []
   },
   "outputs": [
    {
     "name": "stdout",
     "output_type": "stream",
     "text": [
      "Crime to Crime Description:\n",
      "CRIME 110: CRIMINAL HOMICIDE\n",
      "CRIME 113: MANSLAUGHTER NEGLIGENT\n",
      "CRIME 121: RAPE FORCIBLE\n",
      "CRIME 122: RAPE ATTEMPTED\n",
      "CRIME 210: ROBBERY\n",
      "CRIME 220: ATTEMPTED ROBBERY\n",
      "CRIME 230: ASSAULT WITH DEADLY WEAPON AGGRAVATED ASSAULT\n",
      "CRIME 231: ASSAULT WITH DEADLY WEAPON ON POLICE OFFICER\n",
      "CRIME 235: CHILD ABUSE PHYSICAL AGGRAVATED ASSAULT\n",
      "CRIME 236: INTIMATE PARTNER AGGRAVATED ASSAULT\n",
      "CRIME 237: CHILD NEGLECT SEE 300 W.I.C.\n",
      "CRIME 250: SHOTS FIRED AT MOVING VEHICLE TRAIN OR AIRCRAFT\n",
      "CRIME 251: SHOTS FIRED AT INHABITED DWELLING\n",
      "CRIME 310: BURGLARY\n",
      "CRIME 320: BURGLARY ATTEMPTED\n",
      "CRIME 330: BURGLARY FROM VEHICLE\n",
      "CRIME 331: THEFT FROM MOTOR VEHICLE GRAND $950.01 AND OVER\n",
      "CRIME 341: THEFT GRAND $950.01 & OVER EXCPT GUNS FOWL LIVESTK PROD\n",
      "CRIME 343: SHOPLIFTING GRAND THEFT $950.01 & OVER\n",
      "CRIME 345: DISHONEST EMPLOYEE GRAND THEFT\n",
      "CRIME 347: GRAND THEFT / INSURANCE FRAUD\n",
      "CRIME 349: GRAND THEFT / AUTO REPAIR\n",
      "CRIME 350: THEFT PERSON\n",
      "CRIME 351: PURSE SNATCHING\n",
      "CRIME 352: PICKPOCKET\n",
      "CRIME 353: DRUNK ROLL\n",
      "CRIME 354: THEFT OF IDENTITY\n",
      "CRIME 410: BURGLARY FROM VEHICLE ATTEMPTED\n",
      "CRIME 420: THEFT FROM MOTOR VEHICLE PETTY $950 & UNDER\n",
      "CRIME 421: THEFT FROM MOTOR VEHICLE ATTEMPT\n",
      "CRIME 432: BLOCKING DOOR INDUCTION CENTER\n",
      "CRIME 433: DRIVING WITHOUT OWNER CONSENT DWOC\n",
      "CRIME 434: FALSE IMPRISONMENT\n",
      "CRIME 435: LYNCHING\n",
      "CRIME 436: LYNCHING ATTEMPTED\n",
      "CRIME 437: RESISTING ARREST\n",
      "CRIME 438: RECKLESS DRIVING\n",
      "CRIME 439: FALSE POLICE REPORT\n",
      "CRIME 440: THEFT PLAIN PETTY $950 & UNDER\n",
      "CRIME 441: THEFT PLAIN ATTEMPT\n",
      "CRIME 442: SHOPLIFTING PETTY THEFT $950 & UNDER\n",
      "CRIME 443: SHOPLIFTING ATTEMPT\n",
      "CRIME 444: DISHONEST EMPLOYEE PETTY THEFT\n",
      "CRIME 445: DISHONEST EMPLOYEE ATTEMPTED THEFT\n",
      "CRIME 446: PETTY THEFT AUTO REPAIR\n",
      "CRIME 450: THEFT FROM PERSON ATTEMPT\n",
      "CRIME 451: PURSE SNATCHING ATTEMPT\n",
      "CRIME 452: PICKPOCKET ATTEMPT\n",
      "CRIME 470: TILL TAP GRAND THEFT $950.01 & OVER\n",
      "CRIME 471: TILL TAP PETTY $950 & UNDER\n",
      "CRIME 473: THEFT COIN MACHINE GRAND $950.01 & OVER\n",
      "CRIME 474: THEFT COIN MACHINE PETTY $950 & UNDER\n",
      "CRIME 475: THEFT COIN MACHINE ATTEMPT\n",
      "CRIME 480: BIKE STOLEN\n",
      "CRIME 485: BIKE ATTEMPTED STOLEN\n",
      "CRIME 487: BOAT STOLEN\n",
      "CRIME 510: VEHICLE STOLEN\n",
      "CRIME 520: VEHICLE ATTEMPT STOLEN\n",
      "CRIME 522: VEHICLE STOLEN OTHER MOTORIZED SCOOTERS BIKES ETC\n",
      "CRIME 622: BATTERY ON A FIREFIGHTER\n",
      "CRIME 623: BATTERY POLICE SIMPLE\n",
      "CRIME 624: BATTERY SIMPLE ASSAULT\n",
      "CRIME 625: OTHER ASSAULT\n",
      "CRIME 626: INTIMATE PARTNER SIMPLE ASSAULT\n",
      "CRIME 627: CHILD ABUSE PHYSICAL SIMPLE ASSAULT\n",
      "CRIME 647: THROWING OBJECT AT MOVING VEHICLE\n",
      "CRIME 648: ARSON\n",
      "CRIME 649: DOCUMENT FORGERY / STOLEN FELONY\n",
      "CRIME 651: DOCUMENT WORTHLESS $200.01 & OVER\n",
      "CRIME 652: DOCUMENT WORTHLESS $200 & UNDER\n",
      "CRIME 653: CREDIT CARDS FRAUD USE $950.01 & OVER\n",
      "CRIME 654: CREDIT CARDS FRAUD USE $950 & UNDER\n",
      "CRIME 660: COUNTERFEIT\n",
      "CRIME 661: UNAUTHORIZED COMPUTER ACCESS\n",
      "CRIME 662: BUNCO GRAND THEFT\n",
      "CRIME 664: BUNCO PETTY THEFT\n",
      "CRIME 666: BUNCO ATTEMPT\n",
      "CRIME 668: EMBEZZLEMENT GRAND THEFT $950.01 & OVER\n",
      "CRIME 670: EMBEZZLEMENT PETTY THEFT $950 & UNDER\n",
      "CRIME 740: VANDALISM FELONY $400 & OVER ALL CHURCH VANDALISMS\n",
      "CRIME 745: VANDALISM MISDEAMEANOR $399 OR UNDER\n",
      "CRIME 753: DISCHARGE FIREARMS/SHOTS FIRED\n",
      "CRIME 755: BOMB SCARE\n",
      "CRIME 756: WEAPONS POSSESSION/BOMBING\n",
      "CRIME 760: LEWD/LASCIVIOUS ACTS WITH CHILD\n",
      "CRIME 761: BRANDISH WEAPON\n",
      "CRIME 762: LEWD CONDUCT\n",
      "CRIME 763: STALKING\n",
      "CRIME 805: PIMPING\n",
      "CRIME 806: PANDERING\n",
      "CRIME 810: SEX UNLAWFUL INC MUTUAL CONSENT PENETRATION W/ FRGN OBJ\n",
      "CRIME 812: CRM AGNST CHLD 13 OR UNDER 14 15 & SUSP 10 YRS OLDER\n",
      "CRIME 813: CHILD ANNOYING 17YRS & UNDER\n",
      "CRIME 814: CHILD PORNOGRAPHY\n",
      "CRIME 815: SEXUAL PENETRATION W/FOREIGN OBJECT\n",
      "CRIME 820: ORAL COPULATION\n",
      "CRIME 821: SODOMY/SEXUAL CONTACT B/W PENIS OF ONE PERS TO ANUS OTH\n",
      "CRIME 822: HUMAN TRAFFICKING COMMERCIAL SEX ACTS\n",
      "CRIME 830: INCEST SEXUAL ACTS BETWEEN BLOOD RELATIVES\n",
      "CRIME 840: BEASTIALITY CRIME AGAINST NATURE SEXUAL ASSLT WITH ANIM\n",
      "CRIME 845: SEX OFFENDER REGISTRANT OUT OF COMPLIANCE\n",
      "CRIME 850: INDECENT EXPOSURE\n",
      "CRIME 860: BATTERY WITH SEXUAL CONTACT\n",
      "CRIME 865: DRUGS TO A MINOR\n",
      "CRIME 870: CHILD ABANDONMENT\n",
      "CRIME 880: DISRUPT SCHOOL\n",
      "CRIME 882: INCITING A RIOT\n",
      "CRIME 884: FAILURE TO DISPERSE\n",
      "CRIME 886: DISTURBING THE PEACE\n",
      "CRIME 888: TRESPASSING\n",
      "CRIME 890: FAILURE TO YIELD\n",
      "CRIME 900: VIOLATION OF COURT ORDER\n",
      "CRIME 901: VIOLATION OF RESTRAINING ORDER\n",
      "CRIME 902: VIOLATION OF TEMPORARY RESTRAINING ORDER\n",
      "CRIME 903: CONTEMPT OF COURT\n",
      "CRIME 904: FIREARMS EMERGENCY PROTECTIVE ORDER FIREARMS EPO\n",
      "CRIME 906: FIREARMS RESTRAINING ORDER FIREARMS RO\n",
      "CRIME 910: KIDNAPPING\n",
      "CRIME 920: KIDNAPPING GRAND ATTEMPT\n",
      "CRIME 921: HUMAN TRAFFICKING INVOLUNTARY SERVITUDE\n",
      "CRIME 922: CHILD STEALING\n",
      "CRIME 924: TELEPHONE PROPERTY DAMAGE\n",
      "CRIME 926: TRAIN WRECKING\n",
      "CRIME 928: THREATENING PHONE CALLS/LETTERS\n",
      "CRIME 930: CRIMINAL THREATS NO WEAPON DISPLAYED\n",
      "CRIME 931: REPLICA FIREARMS SALE DISPLAY MANUFACTURE OR DISTRIBUTE\n",
      "CRIME 932: PEEPING TOM\n",
      "CRIME 933: PROWLER\n",
      "CRIME 940: EXTORTION\n",
      "CRIME 942: BRIBERY\n",
      "CRIME 943: CRUELTY TO ANIMALS\n",
      "CRIME 944: CONSPIRACY\n",
      "CRIME 946: OTHER MISCELLANEOUS CRIME\n",
      "CRIME 948: BIGAMY\n",
      "CRIME 949: ILLEGAL DUMPING\n",
      "CRIME 950: DEFRAUDING INNKEEPER/THEFT OF SERVICES OVER $950.01\n",
      "CRIME 951: DEFRAUDING INNKEEPER/THEFT OF SERVICES $950 & UNDER\n",
      "CRIME 954: CONTRIBUTING\n",
      "CRIME 956: LETTERS LEWD TELEPHONE CALLS LEWD\n",
      "     Crm Cd                                        Crm Cd Desc\n",
      "0       110                                  CRIMINAL HOMICIDE\n",
      "1       113                             MANSLAUGHTER NEGLIGENT\n",
      "2       121                                      RAPE FORCIBLE\n",
      "3       122                                     RAPE ATTEMPTED\n",
      "4       210                                            ROBBERY\n",
      "..      ...                                                ...\n",
      "134     949                                    ILLEGAL DUMPING\n",
      "135     950  DEFRAUDING INNKEEPER/THEFT OF SERVICES OVER $9...\n",
      "136     951  DEFRAUDING INNKEEPER/THEFT OF SERVICES $950 & ...\n",
      "137     954                                       CONTRIBUTING\n",
      "138     956                  LETTERS LEWD TELEPHONE CALLS LEWD\n",
      "\n",
      "[139 rows x 2 columns]\n"
     ]
    }
   ],
   "source": [
    "# Create a DataFrame with the provided Crm Cd & Crm Cd Desc\n",
    "crime_type = {\n",
    "    'Crm Cd': [110, 113, 121, 122, 210, 220, 230, 231, 235, 236, 237, 250, 251, 310, 320, 330, 331, 341, 343, 345, 347, 349, 350, 351, 352, 353, 354, 410, 420, 421, 432, 433, 434, 435, 436, 437, 438, 439, 440, 441, 442, 443, 444, 445, 446, 450, 451, 452, 470, 471, 473, 474, 475, 480, 485, 487, 510, 520, 522, 622, 623, 624, 625, 626, 627, 647, 648, 649, 651, 652, 653, 654, 660, 661, 662, 664, 666, 668, 670, 740, 745, 753, 755, 756, 760, 761, 762, 763, 805, 806, 810, 812, 813, 814, 815, 820, 821, 822, 830, 840, 845, 850, 860, 865, 870, 880, 882, 884, 886, 888, 890, 900, 901, 902, 903, 904, 906, 910, 920, 921, 922, 924, 926, 928, 930, 931, 932, 933, 940, 942, 943, 944, 946, 948, 949, 950, 951, 954, 956],\n",
    "    'Crm Cd Desc': ['CRIMINAL HOMICIDE', 'MANSLAUGHTER NEGLIGENT', 'RAPE FORCIBLE', 'RAPE ATTEMPTED', 'ROBBERY', 'ATTEMPTED ROBBERY', 'ASSAULT WITH DEADLY WEAPON AGGRAVATED ASSAULT', 'ASSAULT WITH DEADLY WEAPON ON POLICE OFFICER', 'CHILD ABUSE PHYSICAL AGGRAVATED ASSAULT', 'INTIMATE PARTNER AGGRAVATED ASSAULT', 'CHILD NEGLECT SEE 300 W.I.C.', 'SHOTS FIRED AT MOVING VEHICLE TRAIN OR AIRCRAFT', 'SHOTS FIRED AT INHABITED DWELLING', 'BURGLARY', 'BURGLARY ATTEMPTED', 'BURGLARY FROM VEHICLE', 'THEFT FROM MOTOR VEHICLE GRAND $950.01 AND OVER', 'THEFT GRAND $950.01 & OVER EXCPT GUNS FOWL LIVESTK PROD', 'SHOPLIFTING GRAND THEFT $950.01 & OVER', 'DISHONEST EMPLOYEE GRAND THEFT', 'GRAND THEFT / INSURANCE FRAUD', 'GRAND THEFT / AUTO REPAIR', 'THEFT PERSON', 'PURSE SNATCHING', 'PICKPOCKET', 'DRUNK ROLL', 'THEFT OF IDENTITY', 'BURGLARY FROM VEHICLE ATTEMPTED', 'THEFT FROM MOTOR VEHICLE PETTY $950 & UNDER', 'THEFT FROM MOTOR VEHICLE ATTEMPT', 'BLOCKING DOOR INDUCTION CENTER', 'DRIVING WITHOUT OWNER CONSENT DWOC', 'FALSE IMPRISONMENT', 'LYNCHING', 'LYNCHING ATTEMPTED', 'RESISTING ARREST', 'RECKLESS DRIVING', 'FALSE POLICE REPORT', 'THEFT PLAIN PETTY $950 & UNDER', 'THEFT PLAIN ATTEMPT', 'SHOPLIFTING PETTY THEFT $950 & UNDER', 'SHOPLIFTING ATTEMPT', 'DISHONEST EMPLOYEE PETTY THEFT', 'DISHONEST EMPLOYEE ATTEMPTED THEFT', 'PETTY THEFT AUTO REPAIR', 'THEFT FROM PERSON ATTEMPT', 'PURSE SNATCHING ATTEMPT', 'PICKPOCKET ATTEMPT', 'TILL TAP GRAND THEFT $950.01 & OVER', 'TILL TAP PETTY $950 & UNDER', 'THEFT COIN MACHINE GRAND $950.01 & OVER', 'THEFT COIN MACHINE PETTY $950 & UNDER', 'THEFT COIN MACHINE ATTEMPT', 'BIKE STOLEN', 'BIKE ATTEMPTED STOLEN', 'BOAT STOLEN', 'VEHICLE STOLEN', 'VEHICLE ATTEMPT STOLEN', 'VEHICLE STOLEN OTHER MOTORIZED SCOOTERS BIKES ETC', 'BATTERY ON A FIREFIGHTER', 'BATTERY POLICE SIMPLE', 'BATTERY SIMPLE ASSAULT', 'OTHER ASSAULT', 'INTIMATE PARTNER SIMPLE ASSAULT', 'CHILD ABUSE PHYSICAL SIMPLE ASSAULT', 'THROWING OBJECT AT MOVING VEHICLE', 'ARSON', 'DOCUMENT FORGERY / STOLEN FELONY', 'DOCUMENT WORTHLESS $200.01 & OVER', 'DOCUMENT WORTHLESS $200 & UNDER', 'CREDIT CARDS FRAUD USE $950.01 & OVER', 'CREDIT CARDS FRAUD USE $950 & UNDER', 'COUNTERFEIT', 'UNAUTHORIZED COMPUTER ACCESS', 'BUNCO GRAND THEFT', 'BUNCO PETTY THEFT', 'BUNCO ATTEMPT', 'EMBEZZLEMENT GRAND THEFT $950.01 & OVER', 'EMBEZZLEMENT PETTY THEFT $950 & UNDER', 'VANDALISM FELONY $400 & OVER ALL CHURCH VANDALISMS', 'VANDALISM MISDEAMEANOR $399 OR UNDER', 'DISCHARGE FIREARMS/SHOTS FIRED', 'BOMB SCARE', 'WEAPONS POSSESSION/BOMBING', 'LEWD/LASCIVIOUS ACTS WITH CHILD', 'BRANDISH WEAPON', 'LEWD CONDUCT', 'STALKING', 'PIMPING', 'PANDERING', 'SEX UNLAWFUL INC MUTUAL CONSENT PENETRATION W/ FRGN OBJ', 'CRM AGNST CHLD 13 OR UNDER 14 15 & SUSP 10 YRS OLDER', 'CHILD ANNOYING 17YRS & UNDER', 'CHILD PORNOGRAPHY', 'SEXUAL PENETRATION W/FOREIGN OBJECT', 'ORAL COPULATION', 'SODOMY/SEXUAL CONTACT B/W PENIS OF ONE PERS TO ANUS OTH', 'HUMAN TRAFFICKING COMMERCIAL SEX ACTS', 'INCEST SEXUAL ACTS BETWEEN BLOOD RELATIVES', 'BEASTIALITY CRIME AGAINST NATURE SEXUAL ASSLT WITH ANIM', 'SEX OFFENDER REGISTRANT OUT OF COMPLIANCE', 'INDECENT EXPOSURE', 'BATTERY WITH SEXUAL CONTACT', 'DRUGS TO A MINOR', 'CHILD ABANDONMENT', 'DISRUPT SCHOOL', 'INCITING A RIOT', 'FAILURE TO DISPERSE', 'DISTURBING THE PEACE', 'TRESPASSING', 'FAILURE TO YIELD', 'VIOLATION OF COURT ORDER', 'VIOLATION OF RESTRAINING ORDER', 'VIOLATION OF TEMPORARY RESTRAINING ORDER', 'CONTEMPT OF COURT', 'FIREARMS EMERGENCY PROTECTIVE ORDER FIREARMS EPO', 'FIREARMS RESTRAINING ORDER FIREARMS RO', 'KIDNAPPING', 'KIDNAPPING GRAND ATTEMPT', 'HUMAN TRAFFICKING INVOLUNTARY SERVITUDE', 'CHILD STEALING', 'TELEPHONE PROPERTY DAMAGE', 'TRAIN WRECKING', 'THREATENING PHONE CALLS/LETTERS', 'CRIMINAL THREATS NO WEAPON DISPLAYED', 'REPLICA FIREARMS SALE DISPLAY MANUFACTURE OR DISTRIBUTE', 'PEEPING TOM', 'PROWLER', 'EXTORTION', 'BRIBERY', 'CRUELTY TO ANIMALS', 'CONSPIRACY', 'OTHER MISCELLANEOUS CRIME', 'BIGAMY', 'ILLEGAL DUMPING', 'DEFRAUDING INNKEEPER/THEFT OF SERVICES OVER $950.01', 'DEFRAUDING INNKEEPER/THEFT OF SERVICES $950 & UNDER', 'CONTRIBUTING', 'LETTERS LEWD TELEPHONE CALLS LEWD']\n",
    "}\n",
    "\n",
    "df_ctd = pd.DataFrame(crime_type)\n",
    "\n",
    "# Create a dictionary mapping Crime to Crime Description\n",
    "crime_to_name = df_ctd.set_index('Crm Cd')['Crm Cd Desc'].to_dict()\n",
    "\n",
    "# Display the mapping\n",
    "print(\"Crime to Crime Description:\")\n",
    "for crime, name in crime_to_name.items():\n",
    "    print(f\"CRIME {crime}: {name}\")\n",
    "\n",
    "# Verify the DataFrame\n",
    "print(df_ctd)"
   ]
  },
  {
   "cell_type": "code",
   "execution_count": 24,
   "id": "3a1b28b9",
   "metadata": {
    "execution": {
     "iopub.execute_input": "2024-09-17T05:28:24.932000Z",
     "iopub.status.busy": "2024-09-17T05:28:24.931541Z",
     "iopub.status.idle": "2024-09-17T05:28:24.941525Z",
     "shell.execute_reply": "2024-09-17T05:28:24.940416Z"
    },
    "papermill": {
     "duration": 0.030801,
     "end_time": "2024-09-17T05:28:24.943911",
     "exception": false,
     "start_time": "2024-09-17T05:28:24.913110",
     "status": "completed"
    },
    "tags": []
   },
   "outputs": [],
   "source": [
    "map_loc = {\n",
    "    'AREA NAME': ['Central', 'Rampart', 'Southwest', 'Hollenbeck', 'Harbor', 'Hollywood', 'Wilshire', 'West LA', 'Van Nuys', 'West Valley', 'Northeast', '77th Street', 'Newton', 'Pacific', 'N Hollywood', 'Foothill', 'Devonshire', 'Southeast', 'Mission', 'Olympic', 'Topanga'],\n",
    "    'Latitude': [34.0522, 34.0616, 34.0095, 34.0443, 33.7669, 34.0928, 34.0614, 34.0522, 34.1867, 34.1899, 34.1063, 33.9653, 34.0076, 33.7866, 34.1722, 34.2506, 34.2575, 33.9513, 34.2723, 34.0522, 34.2164],\n",
    "    'Longitude': [-118.2437, -118.2740, -118.2890, -118.2117, -118.2490, -118.3287, -118.3082, -118.2437, -118.4490, -118.5360, -118.2000, -118.2910, -118.2580, -118.2920, -118.3780, -118.3020, -118.5290, -118.2470, -118.4430, -118.2437, -118.6060]\n",
    "}\n",
    "\n",
    "df_map = pd.DataFrame(map_loc)"
   ]
  },
  {
   "cell_type": "code",
   "execution_count": 25,
   "id": "60d2da5a",
   "metadata": {
    "execution": {
     "iopub.execute_input": "2024-09-17T05:28:24.980052Z",
     "iopub.status.busy": "2024-09-17T05:28:24.979592Z",
     "iopub.status.idle": "2024-09-17T05:28:24.985000Z",
     "shell.execute_reply": "2024-09-17T05:28:24.983875Z"
    },
    "papermill": {
     "duration": 0.026604,
     "end_time": "2024-09-17T05:28:24.987549",
     "exception": false,
     "start_time": "2024-09-17T05:28:24.960945",
     "status": "completed"
    },
    "tags": []
   },
   "outputs": [],
   "source": [
    "#df_ctd = pd.DataFrame(crime_type)\n",
    "\n",
    "# Assuming df_cd is your crime data DataFrame with AREA NAME and Crm Cd\n",
    "#df_cd = pd.DataFrame({\n",
    "#    'AREA NAME': ['Central', 'Rampart', 'Southwest', 'Hollenbeck', 'Harbor'],\n",
    "#    'Crm Cd': [110, 113, 121, 122, 210]\n",
    "#})\n",
    "\n",
    "# Merge df_cd with df_ctd to get crime descriptions\n",
    "#df_cd = df_cd.merge(df_ctd, on='Crm Cd')\n",
    "\n",
    "# Merge df_cd with df_map to get location data\n",
    "#df_cd = df_cd.merge(df_map, on='AREA NAME')"
   ]
  },
  {
   "cell_type": "code",
   "execution_count": 26,
   "id": "5c680903",
   "metadata": {
    "execution": {
     "iopub.execute_input": "2024-09-17T05:28:25.023634Z",
     "iopub.status.busy": "2024-09-17T05:28:25.023029Z",
     "iopub.status.idle": "2024-09-17T05:28:25.096423Z",
     "shell.execute_reply": "2024-09-17T05:28:25.095196Z"
    },
    "papermill": {
     "duration": 0.09472,
     "end_time": "2024-09-17T05:28:25.099260",
     "exception": false,
     "start_time": "2024-09-17T05:28:25.004540",
     "status": "completed"
    },
    "tags": []
   },
   "outputs": [],
   "source": [
    "# Create a map centered around Los Angeles\n",
    "m = folium.Map(location=[34.0522, -118.2437], zoom_start=10)\n",
    "\n",
    "# Add markers to the map\n",
    "for idx, row in df_map.iterrows():\n",
    "    folium.Marker(\n",
    "        location=[row['Latitude'], row['Longitude']],\n",
    "        popup=row['AREA NAME'],\n",
    "        icon=folium.Icon(color='blue')\n",
    "    ).add_to(m)\n",
    "\n",
    "# Save the map to an HTML file\n",
    "m.save('area_map.html')\n"
   ]
  },
  {
   "cell_type": "code",
   "execution_count": 27,
   "id": "570c8626",
   "metadata": {
    "execution": {
     "iopub.execute_input": "2024-09-17T05:28:25.134738Z",
     "iopub.status.busy": "2024-09-17T05:28:25.134256Z",
     "iopub.status.idle": "2024-09-17T05:28:25.142685Z",
     "shell.execute_reply": "2024-09-17T05:28:25.141550Z"
    },
    "papermill": {
     "duration": 0.029016,
     "end_time": "2024-09-17T05:28:25.145148",
     "exception": false,
     "start_time": "2024-09-17T05:28:25.116132",
     "status": "completed"
    },
    "tags": []
   },
   "outputs": [
    {
     "data": {
      "text/html": [
       "\n",
       "        <iframe\n",
       "            width=\"700\"\n",
       "            height=\"500\"\n",
       "            src=\"area_map.html\"\n",
       "            frameborder=\"0\"\n",
       "            allowfullscreen\n",
       "            \n",
       "        ></iframe>\n",
       "        "
      ],
      "text/plain": [
       "<IPython.lib.display.IFrame at 0x7bf8702239d0>"
      ]
     },
     "metadata": {},
     "output_type": "display_data"
    }
   ],
   "source": [
    "from IPython.display import display, IFrame\n",
    "\n",
    "display(IFrame('area_map.html', width=700, height=500))\n"
   ]
  }
 ],
 "metadata": {
  "kaggle": {
   "accelerator": "none",
   "dataSources": [
    {
     "datasetId": 5521874,
     "sourceId": 9142502,
     "sourceType": "datasetVersion"
    }
   ],
   "dockerImageVersionId": 30761,
   "isGpuEnabled": false,
   "isInternetEnabled": true,
   "language": "python",
   "sourceType": "notebook"
  },
  "kernelspec": {
   "display_name": "Python 3",
   "language": "python",
   "name": "python3"
  },
  "language_info": {
   "codemirror_mode": {
    "name": "ipython",
    "version": 3
   },
   "file_extension": ".py",
   "mimetype": "text/x-python",
   "name": "python",
   "nbconvert_exporter": "python",
   "pygments_lexer": "ipython3",
   "version": "3.10.14"
  },
  "papermill": {
   "default_parameters": {},
   "duration": 61.568451,
   "end_time": "2024-09-17T05:28:26.386551",
   "environment_variables": {},
   "exception": null,
   "input_path": "__notebook__.ipynb",
   "output_path": "__notebook__.ipynb",
   "parameters": {},
   "start_time": "2024-09-17T05:27:24.818100",
   "version": "2.6.0"
  }
 },
 "nbformat": 4,
 "nbformat_minor": 5
}
